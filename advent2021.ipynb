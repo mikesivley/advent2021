{
 "cells": [
  {
   "cell_type": "markdown",
   "id": "387bfb97",
   "metadata": {},
   "source": [
    "# Advent of Code - 2021"
   ]
  },
  {
   "cell_type": "markdown",
   "id": "1a10972a",
   "metadata": {},
   "source": [
    "## Daily Data\n",
    "\n",
    "The input data for each day \"e.g. day 5\" should be downloaded into the data subdirectory for the corresponding day (e.g. data/day_5/input.txt). This will allow use of the `get_daily_data` generator function."
   ]
  },
  {
   "cell_type": "code",
   "execution_count": 1,
   "id": "c4cf447f",
   "metadata": {},
   "outputs": [],
   "source": [
    "import numpy as np\n",
    "import pandas as pd\n",
    "import matplotlib.pyplot as plt\n",
    "import matplotlib.animation as animation\n",
    "%matplotlib inline"
   ]
  },
  {
   "cell_type": "markdown",
   "id": "6f116d06",
   "metadata": {},
   "source": [
    "## Support Functions"
   ]
  },
  {
   "cell_type": "code",
   "execution_count": 127,
   "id": "1bc70c8e",
   "metadata": {},
   "outputs": [],
   "source": [
    "import os\n",
    "def get_daily_data(day, sep=None):\n",
    "    daily_filename = \"data/day_{}/input.txt\".format(day)\n",
    "    if not os.path.exists(daily_filename):\n",
    "        try:\n",
    "            os.rename(\"/Users/mikes/Downloads/input.txt\", daily_filename)\n",
    "        except:\n",
    "            raise Exception(\"Could not find daily input file.\")\n",
    "    with open(daily_filename, 'r') as fin:\n",
    "        for line in fin.readlines():\n",
    "            if sep is None:\n",
    "                yield line.rstrip()\n",
    "            else:\n",
    "                yield line.rstrip().split(sep)"
   ]
  },
  {
   "cell_type": "markdown",
   "id": "7b188149",
   "metadata": {},
   "source": [
    "## Day 4"
   ]
  },
  {
   "cell_type": "code",
   "execution_count": 220,
   "id": "56610928",
   "metadata": {},
   "outputs": [],
   "source": [
    "class BingoBoard:\n",
    "    \n",
    "    def __init__(self, values):\n",
    "        self.values = np.array(values)\n",
    "        self.marked = np.zeros(self.values.shape).astype(bool)\n",
    "        \n",
    "    def mark(self, value):\n",
    "        idx = np.where(self.values == value)\n",
    "        self.marked[idx] = True\n",
    "    \n",
    "    def bingo(self):\n",
    "        row_bingo = (self.marked.sum(axis=1) == self.marked.shape[0]).any()\n",
    "        col_bingo = (self.marked.sum(axis=0) == self.marked.shape[1]).any()\n",
    "        return row_bingo or col_bingo\n",
    "        \n",
    "    def get_unmarked_values(self):\n",
    "        unmarked = ~self.marked\n",
    "        return self.values[np.where(unmarked)]"
   ]
  },
  {
   "cell_type": "code",
   "execution_count": 221,
   "id": "36ccbd89",
   "metadata": {},
   "outputs": [],
   "source": [
    "def init_data():\n",
    "    data = [line for line in get_daily_data(4)]\n",
    "    balls = [int(x) for x in data.pop(0).split(',')]\n",
    "    data.pop(0)  # throw away empty line\n",
    "\n",
    "    boards = []\n",
    "    board_values = []\n",
    "    for line in data:\n",
    "        if line == \"\":\n",
    "            boards.append(BingoBoard(board_values))\n",
    "            board_values = []\n",
    "        else:\n",
    "            row = [int(x) for x in line.split()]\n",
    "            board_values.append(row)\n",
    "    return boards, balls"
   ]
  },
  {
   "cell_type": "code",
   "execution_count": 222,
   "id": "07e74fbd",
   "metadata": {},
   "outputs": [],
   "source": [
    "def play_bingo(boards, balls):\n",
    "    for bl in balls:\n",
    "        for bd in boards:\n",
    "            bd.mark(bl)\n",
    "            if bd.bingo():\n",
    "                solution = bd.get_unmarked_values().sum() * bl\n",
    "                return solution"
   ]
  },
  {
   "cell_type": "code",
   "execution_count": 223,
   "id": "df1e3e92",
   "metadata": {},
   "outputs": [
    {
     "data": {
      "text/plain": [
       "87456"
      ]
     },
     "execution_count": 223,
     "metadata": {},
     "output_type": "execute_result"
    }
   ],
   "source": [
    "boards, balls = init_data()\n",
    "play_bingo(boards, balls)"
   ]
  },
  {
   "cell_type": "code",
   "execution_count": 224,
   "id": "84efa7f4",
   "metadata": {},
   "outputs": [],
   "source": [
    "def play_bad_bingo(boards, balls):\n",
    "    for bl in balls:\n",
    "        purge = []\n",
    "        for bd in boards:\n",
    "            bd.mark(bl)\n",
    "            if bd.bingo():\n",
    "                if len(boards) == 1:\n",
    "                    solution = bd.get_unmarked_values().sum() * bl\n",
    "                    return solution\n",
    "                else:\n",
    "                    purge.append(bd)\n",
    "        for bd in purge:\n",
    "            boards.remove(bd)"
   ]
  },
  {
   "cell_type": "code",
   "execution_count": 225,
   "id": "1170c01b",
   "metadata": {},
   "outputs": [
    {
     "data": {
      "text/plain": [
       "15561"
      ]
     },
     "execution_count": 225,
     "metadata": {},
     "output_type": "execute_result"
    }
   ],
   "source": [
    "boards, balls = init_data()\n",
    "play_bad_bingo(boards, balls)"
   ]
  },
  {
   "cell_type": "code",
   "execution_count": null,
   "id": "d1099945",
   "metadata": {},
   "outputs": [],
   "source": []
  },
  {
   "cell_type": "code",
   "execution_count": null,
   "id": "104ba5ba",
   "metadata": {},
   "outputs": [],
   "source": []
  },
  {
   "cell_type": "code",
   "execution_count": null,
   "id": "dbbb815b",
   "metadata": {},
   "outputs": [],
   "source": []
  },
  {
   "cell_type": "markdown",
   "id": "f104cfd2",
   "metadata": {},
   "source": [
    "## Day 3"
   ]
  },
  {
   "cell_type": "code",
   "execution_count": 5,
   "id": "34630ea7",
   "metadata": {},
   "outputs": [],
   "source": [
    "def to_decimal(binary_vector):\n",
    "    total = 0\n",
    "    for pos, bit in enumerate(binary_vector[::-1]):\n",
    "        total += bit * (2 ** pos)\n",
    "    return total"
   ]
  },
  {
   "cell_type": "code",
   "execution_count": 6,
   "id": "a51bdaec",
   "metadata": {},
   "outputs": [],
   "source": [
    "import numpy as np\n",
    "from scipy import stats\n",
    "\n",
    "data = []\n",
    "for line in get_daily_data(3):\n",
    "    data.append([int(x) for x in list(line.strip())])\n",
    "data = np.array(data)"
   ]
  },
  {
   "cell_type": "code",
   "execution_count": 7,
   "id": "c2fbaaff",
   "metadata": {},
   "outputs": [
    {
     "data": {
      "text/plain": [
       "2967914"
      ]
     },
     "execution_count": 7,
     "metadata": {},
     "output_type": "execute_result"
    }
   ],
   "source": [
    "gamma_bin = list(stats.mode(data, axis=0)[0][0])\n",
    "epsilon_bin = [abs(data - 1) for data in gamma_bin]\n",
    "gamma = to_decimal(gamma_bin)\n",
    "epsilon = to_decimal(epsilon_bin)\n",
    "gamma * epsilon"
   ]
  },
  {
   "cell_type": "code",
   "execution_count": 8,
   "id": "9bb56589",
   "metadata": {},
   "outputs": [],
   "source": [
    "def most_common(vec):\n",
    "    n1 = sum(vec)\n",
    "    n0 = len(vec) - sum(vec)\n",
    "    if n0 == n1:\n",
    "        return 1\n",
    "    elif n0 > n1:\n",
    "        return 0\n",
    "    else:\n",
    "        return 1"
   ]
  },
  {
   "cell_type": "code",
   "execution_count": 9,
   "id": "251cb742",
   "metadata": {},
   "outputs": [],
   "source": [
    "def least_common(vec):\n",
    "    n1 = sum(vec)\n",
    "    n0 = len(vec) - sum(vec)\n",
    "    if n0 == n1:\n",
    "        return 0\n",
    "    elif n0 > n1:\n",
    "        return 1\n",
    "    else:\n",
    "        return 0"
   ]
  },
  {
   "cell_type": "code",
   "execution_count": 10,
   "id": "6d9a667b",
   "metadata": {},
   "outputs": [],
   "source": [
    "def find_og_rating(data):\n",
    "    for col in range(data.shape[1]):\n",
    "        x = data[:, col]\n",
    "        mode = most_common(x)\n",
    "        data = data[x == mode, :]\n",
    "        if data.shape[0] == 1:\n",
    "            break\n",
    "    assert(data.shape[0] == 1)\n",
    "    return to_decimal(data[0, :])"
   ]
  },
  {
   "cell_type": "code",
   "execution_count": 11,
   "id": "04cb45f0",
   "metadata": {},
   "outputs": [],
   "source": [
    "def find_co2_rating(data):\n",
    "    for col in range(data.shape[1]):\n",
    "        x = data[:, col]\n",
    "        antimode = least_common(x)\n",
    "        data = data[x == antimode, :]\n",
    "        if data.shape[0] == 1:\n",
    "            break\n",
    "    assert(data.shape[0] == 1)\n",
    "    return to_decimal(data[0, :])"
   ]
  },
  {
   "cell_type": "code",
   "execution_count": 12,
   "id": "87c8828d",
   "metadata": {},
   "outputs": [
    {
     "data": {
      "text/plain": [
       "1927"
      ]
     },
     "execution_count": 12,
     "metadata": {},
     "output_type": "execute_result"
    }
   ],
   "source": [
    "og = find_og_rating(data)\n",
    "og"
   ]
  },
  {
   "cell_type": "code",
   "execution_count": 13,
   "id": "f5093f44",
   "metadata": {},
   "outputs": [
    {
     "data": {
      "text/plain": [
       "3654"
      ]
     },
     "execution_count": 13,
     "metadata": {},
     "output_type": "execute_result"
    }
   ],
   "source": [
    "co2 = find_co2_rating(data)\n",
    "co2"
   ]
  },
  {
   "cell_type": "code",
   "execution_count": 14,
   "id": "80bba7ba",
   "metadata": {},
   "outputs": [
    {
     "data": {
      "text/plain": [
       "7041258"
      ]
     },
     "execution_count": 14,
     "metadata": {},
     "output_type": "execute_result"
    }
   ],
   "source": [
    "og * co2"
   ]
  },
  {
   "cell_type": "code",
   "execution_count": 15,
   "id": "0ef3ba0d",
   "metadata": {},
   "outputs": [],
   "source": [
    "# 7105014 is too high"
   ]
  },
  {
   "cell_type": "markdown",
   "id": "5e3c1284",
   "metadata": {},
   "source": [
    "## Day 2"
   ]
  },
  {
   "cell_type": "code",
   "execution_count": 16,
   "id": "638a4211",
   "metadata": {},
   "outputs": [
    {
     "data": {
      "text/plain": [
       "1580000"
      ]
     },
     "execution_count": 16,
     "metadata": {},
     "output_type": "execute_result"
    }
   ],
   "source": [
    "horizontal_loc = 0\n",
    "depth_loc = 0\n",
    "for direction, value in get_daily_data(2, ' '):\n",
    "    value = int(value)\n",
    "    if direction == \"forward\":\n",
    "        horizontal_loc += value\n",
    "    elif direction == \"down\":\n",
    "        depth_loc += value\n",
    "    elif direction == \"up\":\n",
    "        depth_loc -= value\n",
    "horizontal_loc * depth_loc"
   ]
  },
  {
   "cell_type": "code",
   "execution_count": 17,
   "id": "e05044d3",
   "metadata": {},
   "outputs": [
    {
     "data": {
      "text/plain": [
       "1251263225"
      ]
     },
     "execution_count": 17,
     "metadata": {},
     "output_type": "execute_result"
    }
   ],
   "source": [
    "horizontal_loc = 0\n",
    "depth_loc = 0\n",
    "aim = 0\n",
    "for direction, value in get_daily_data(2, ' '):\n",
    "    value = int(value)\n",
    "    if direction == \"forward\":\n",
    "        horizontal_loc += value\n",
    "        depth_loc += value * aim\n",
    "    elif direction == \"down\":\n",
    "        aim += value\n",
    "    elif direction == \"up\":\n",
    "        aim -= value\n",
    "horizontal_loc * depth_loc"
   ]
  },
  {
   "cell_type": "markdown",
   "id": "67cbf662",
   "metadata": {},
   "source": [
    "## Day 1"
   ]
  },
  {
   "cell_type": "code",
   "execution_count": 18,
   "id": "a3ca7602",
   "metadata": {},
   "outputs": [
    {
     "data": {
      "text/plain": [
       "1466"
      ]
     },
     "execution_count": 18,
     "metadata": {},
     "output_type": "execute_result"
    }
   ],
   "source": [
    "n_increases = 0\n",
    "prev_x = 9e32\n",
    "for value in get_daily_data(1):\n",
    "        x = int(value)\n",
    "        if x > prev_x:\n",
    "            n_increases += 1\n",
    "        prev_x = x\n",
    "n_increases"
   ]
  },
  {
   "cell_type": "code",
   "execution_count": 19,
   "id": "3876c580",
   "metadata": {},
   "outputs": [
    {
     "data": {
      "text/plain": [
       "1491"
      ]
     },
     "execution_count": 19,
     "metadata": {},
     "output_type": "execute_result"
    }
   ],
   "source": [
    "n_increases = 0\n",
    "window = []\n",
    "prev_sum = None\n",
    "for value in get_daily_data(1):\n",
    "    x = int(value)\n",
    "    if len(window) < 3:\n",
    "        window.append(x)\n",
    "    if prev_sum is None:\n",
    "        prev_sum = sum(window)\n",
    "    if len(window) == 3:\n",
    "        window.pop(0)\n",
    "        window.append(x)\n",
    "        new_sum = sum(window)\n",
    "        if new_sum > prev_sum:\n",
    "            n_increases += 1\n",
    "        prev_sum = new_sum\n",
    "n_increases"
   ]
  }
 ],
 "metadata": {
  "kernelspec": {
   "display_name": "Python 3 (ipykernel)",
   "language": "python",
   "name": "python3"
  },
  "language_info": {
   "codemirror_mode": {
    "name": "ipython",
    "version": 3
   },
   "file_extension": ".py",
   "mimetype": "text/x-python",
   "name": "python",
   "nbconvert_exporter": "python",
   "pygments_lexer": "ipython3",
   "version": "3.8.2"
  }
 },
 "nbformat": 4,
 "nbformat_minor": 5
}
