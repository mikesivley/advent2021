{
 "cells": [
  {
   "cell_type": "markdown",
   "id": "123745a5",
   "metadata": {},
   "source": [
    "# Advent of Code - 2021"
   ]
  },
  {
   "cell_type": "markdown",
   "id": "14650565",
   "metadata": {},
   "source": [
    "## Daily Data\n",
    "\n",
    "The input data for each day \"e.g. day 5\" should be downloaded into the data subdirectory for the corresponding day (e.g. data/day_5/input.txt). This will allow use of the `get_daily_data` generator function."
   ]
  },
  {
   "cell_type": "markdown",
   "id": "76333862",
   "metadata": {},
   "source": [
    "## Support Functions"
   ]
  },
  {
   "cell_type": "code",
   "execution_count": 1,
   "id": "69824ff8",
   "metadata": {},
   "outputs": [],
   "source": [
    "import os\n",
    "def get_daily_data(day, sep=None):\n",
    "    daily_filename = \"data/day_{}/input.txt\".format(day)\n",
    "    if not os.path.exists(daily_filename):\n",
    "        try:\n",
    "            os.rename(\"Users/mikes/Downloads/input.txt\", daily_filename)\n",
    "        except:\n",
    "            raise Exception(\"Could not find daily input file.\")\n",
    "    with open(daily_filename, 'r') as fin:\n",
    "        for line in fin.readlines():\n",
    "            if sep is None:\n",
    "                yield line\n",
    "            else:\n",
    "                yield line.split(sep)"
   ]
  },
  {
   "cell_type": "markdown",
   "id": "67bce89d",
   "metadata": {},
   "source": [
    "## Day 3"
   ]
  },
  {
   "cell_type": "code",
   "execution_count": 9,
   "id": "9c85c2ee",
   "metadata": {},
   "outputs": [
    {
     "data": {
      "text/plain": [
       "'dlrowolleh'"
      ]
     },
     "execution_count": 9,
     "metadata": {},
     "output_type": "execute_result"
    }
   ],
   "source": [
    "\"helloworld\"[::-1]"
   ]
  },
  {
   "cell_type": "code",
   "execution_count": null,
   "id": "15592cc9",
   "metadata": {},
   "outputs": [],
   "source": []
  },
  {
   "cell_type": "markdown",
   "id": "b281f752",
   "metadata": {},
   "source": [
    "## Day 2"
   ]
  },
  {
   "cell_type": "code",
   "execution_count": 2,
   "id": "7fc2529a",
   "metadata": {},
   "outputs": [
    {
     "data": {
      "text/plain": [
       "1580000"
      ]
     },
     "execution_count": 2,
     "metadata": {},
     "output_type": "execute_result"
    }
   ],
   "source": [
    "horizontal_loc = 0\n",
    "depth_loc = 0\n",
    "for direction, value in get_daily_data(2, ' '):\n",
    "    value = int(value)\n",
    "    if direction == \"forward\":\n",
    "        horizontal_loc += value\n",
    "    elif direction == \"down\":\n",
    "        depth_loc += value\n",
    "    elif direction == \"up\":\n",
    "        depth_loc -= value\n",
    "horizontal_loc * depth_loc"
   ]
  },
  {
   "cell_type": "code",
   "execution_count": 3,
   "id": "e9353624",
   "metadata": {},
   "outputs": [
    {
     "data": {
      "text/plain": [
       "1251263225"
      ]
     },
     "execution_count": 3,
     "metadata": {},
     "output_type": "execute_result"
    }
   ],
   "source": [
    "horizontal_loc = 0\n",
    "depth_loc = 0\n",
    "aim = 0\n",
    "for direction, value in get_daily_data(2, ' '):\n",
    "    value = int(value)\n",
    "    if direction == \"forward\":\n",
    "        horizontal_loc += value\n",
    "        depth_loc += value * aim\n",
    "    elif direction == \"down\":\n",
    "        aim += value\n",
    "    elif direction == \"up\":\n",
    "        aim -= value\n",
    "horizontal_loc * depth_loc"
   ]
  },
  {
   "cell_type": "markdown",
   "id": "67cbf662",
   "metadata": {},
   "source": [
    "## Day 1"
   ]
  },
  {
   "cell_type": "code",
   "execution_count": 4,
   "id": "a3ca7602",
   "metadata": {},
   "outputs": [
    {
     "data": {
      "text/plain": [
       "1466"
      ]
     },
     "execution_count": 4,
     "metadata": {},
     "output_type": "execute_result"
    }
   ],
   "source": [
    "n_increases = 0\n",
    "prev_x = 9e32\n",
    "for value in get_daily_data(1):\n",
    "        x = int(value)\n",
    "        if x > prev_x:\n",
    "            n_increases += 1\n",
    "        prev_x = x\n",
    "n_increases"
   ]
  },
  {
   "cell_type": "code",
   "execution_count": 5,
   "id": "3876c580",
   "metadata": {},
   "outputs": [
    {
     "data": {
      "text/plain": [
       "1491"
      ]
     },
     "execution_count": 5,
     "metadata": {},
     "output_type": "execute_result"
    }
   ],
   "source": [
    "n_increases = 0\n",
    "window = []\n",
    "prev_sum = None\n",
    "for value in get_daily_data(1):\n",
    "    x = int(value)\n",
    "    if len(window) < 3:\n",
    "        window.append(x)\n",
    "    if prev_sum is None:\n",
    "        prev_sum = sum(window)\n",
    "    if len(window) == 3:\n",
    "        window.pop(0)\n",
    "        window.append(x)\n",
    "        new_sum = sum(window)\n",
    "        if new_sum > prev_sum:\n",
    "            n_increases += 1\n",
    "        prev_sum = new_sum\n",
    "n_increases"
   ]
  }
 ],
 "metadata": {
  "kernelspec": {
   "display_name": "Python 3 (ipykernel)",
   "language": "python",
   "name": "python3"
  },
  "language_info": {
   "codemirror_mode": {
    "name": "ipython",
    "version": 3
   },
   "file_extension": ".py",
   "mimetype": "text/x-python",
   "name": "python",
   "nbconvert_exporter": "python",
   "pygments_lexer": "ipython3",
   "version": "3.8.2"
  }
 },
 "nbformat": 4,
 "nbformat_minor": 5
}
