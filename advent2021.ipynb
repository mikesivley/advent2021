{
 "cells": [
  {
   "cell_type": "markdown",
   "id": "387bfb97",
   "metadata": {},
   "source": [
    "# Advent of Code - 2021"
   ]
  },
  {
   "cell_type": "markdown",
   "id": "1a10972a",
   "metadata": {},
   "source": [
    "## Daily Data\n",
    "\n",
    "The input data for each day \"e.g. day 5\" should be downloaded into the data subdirectory for the corresponding day (e.g. data/day_5/input.txt). This will allow use of the `get_daily_data` generator function."
   ]
  },
  {
   "cell_type": "code",
   "execution_count": 2,
   "id": "c4cf447f",
   "metadata": {},
   "outputs": [],
   "source": [
    "from collections import defaultdict\n",
    "import numpy as np\n",
    "import pandas as pd\n",
    "import matplotlib.pyplot as plt\n",
    "import matplotlib.animation as animation\n",
    "import seaborn as sns\n",
    "from time import time\n",
    "%matplotlib inline"
   ]
  },
  {
   "cell_type": "markdown",
   "id": "6f116d06",
   "metadata": {},
   "source": [
    "## Support Functions"
   ]
  },
  {
   "cell_type": "code",
   "execution_count": 3,
   "id": "1bc70c8e",
   "metadata": {},
   "outputs": [],
   "source": [
    "import os\n",
    "def get_daily_data(day, sep=None):\n",
    "    daily_filename = \"data/day_{}/input.txt\".format(day)\n",
    "    if not os.path.exists(daily_filename):\n",
    "        try:\n",
    "            os.rename(\"/Users/mikes/Downloads/input.txt\", daily_filename)\n",
    "        except:\n",
    "            raise Exception(\"Could not find daily input file.\")\n",
    "    with open(daily_filename, 'r') as fin:\n",
    "        for line in fin.readlines():\n",
    "            if sep is None:\n",
    "                yield line.rstrip()\n",
    "            else:\n",
    "                yield line.rstrip().split(sep)"
   ]
  },
  {
   "cell_type": "markdown",
   "id": "0b21b7af",
   "metadata": {},
   "source": [
    "## Day 15"
   ]
  },
  {
   "cell_type": "code",
   "execution_count": 180,
   "id": "59bde0bd",
   "metadata": {},
   "outputs": [],
   "source": [
    "import heapq"
   ]
  },
  {
   "cell_type": "code",
   "execution_count": 181,
   "id": "26526d1f",
   "metadata": {},
   "outputs": [],
   "source": [
    "def get_adjacent(cell, n_cells, q):\n",
    "    i, j = cell\n",
    "    adjacent = []\n",
    "    if j + 1 < n_cells:\n",
    "        adjacent.append((i, j + 1))\n",
    "    if i + 1 < n_cells:\n",
    "        adjacent.append((i + 1, j))\n",
    "    if i > 1:\n",
    "        adjacent.append((i - 1, j))\n",
    "    if j > 1:\n",
    "        adjacent.append((i, j - 1))\n",
    "    adjacent = [adj for adj in adjacent if adj in q]\n",
    "    return adjacent\n",
    "\n",
    "def dijkstra(cave, source, target):\n",
    "\n",
    "    q = set()\n",
    "    dist = defaultdict(lambda: 9e10)\n",
    "    n = len(cave)\n",
    "    \n",
    "    for i in range(len(cave)):\n",
    "        for j in range(len(cave)):\n",
    "            v = i, j\n",
    "            q.add(v)\n",
    "    q = set([(i, j) for i in range(n) for j in range(n)])\n",
    "    dist[source] = 0\n",
    "\n",
    "    while q:\n",
    "        # terrible implementation of a priority queue\n",
    "        _, u = min((dist[qu], qu) for qu in q.intersection(dist))  # timesink\n",
    "        q.remove(u)\n",
    "        \n",
    "        if q == target:\n",
    "            break\n",
    "        \n",
    "        for v in get_adjacent(u, len(cave), q):\n",
    "            alt = dist[u] + cave[v]\n",
    "            if alt < dist[v]:\n",
    "                dist[v] = alt\n",
    "\n",
    "    return dist[target]\n",
    "        "
   ]
  },
  {
   "cell_type": "code",
   "execution_count": 182,
   "id": "b5a020dd",
   "metadata": {},
   "outputs": [
    {
     "data": {
      "text/plain": [
       "(40, 0.0010769367218017578)"
      ]
     },
     "execution_count": 182,
     "metadata": {},
     "output_type": "execute_result"
    }
   ],
   "source": [
    "example_data = [\"1163751742\", \"1381373672\", \"2136511328\", \"3694931569\", \"7463417111\", \"1319128137\", \"1359912421\", \"3125421639\", \"1293138521\", \"2311944581\"]\n",
    "example_data = [[int(i) for i in l] for l in example_data]\n",
    "example_data = np.array(example_data)\n",
    "\n",
    "source = (0, 0)\n",
    "target = (len(example_data) - 1, len(example_data) - 1)\n",
    "t0 = time()\n",
    "path_len = dijkstra(example_data, source, target)\n",
    "path_len, time() - t0\n"
   ]
  },
  {
   "cell_type": "code",
   "execution_count": 177,
   "id": "b3f93226",
   "metadata": {},
   "outputs": [
    {
     "data": {
      "text/plain": [
       "(527, 2.6762402057647705)"
      ]
     },
     "execution_count": 177,
     "metadata": {},
     "output_type": "execute_result"
    }
   ],
   "source": [
    "data = get_daily_data(15)\n",
    "data = np.array([[int(x) for x in row] for row in data])\n",
    "\n",
    "source = (0, 0)\n",
    "target = (len(data) - 1, len(data) - 1)\n",
    "t0 = time()\n",
    "path_len = dijkstra(data, source, target)\n",
    "path_len, time() - t0"
   ]
  },
  {
   "cell_type": "code",
   "execution_count": 163,
   "id": "7408d94a",
   "metadata": {},
   "outputs": [],
   "source": [
    "def expand_cave(cave):\n",
    "    tiles = [cave]\n",
    "    for i in range(1, 5):\n",
    "        tile = (tiles[i - 1] + 1) % 10\n",
    "        tile[tile == 0] = 1\n",
    "        tiles.append(tile)\n",
    "    cave = np.concatenate(tiles, axis=0)\n",
    "    tiles = [cave]\n",
    "    for i in range(1, 5):\n",
    "        tile = (tiles[i - 1] + 1) % 10\n",
    "        tile[tile == 0] = 1\n",
    "        tiles.append(tile)\n",
    "    cave = np.concatenate(tiles, axis=1)\n",
    "    return cave"
   ]
  },
  {
   "cell_type": "code",
   "execution_count": 164,
   "id": "97f23aab",
   "metadata": {},
   "outputs": [
    {
     "data": {
      "text/plain": [
       "(315, 0.16708922386169434)"
      ]
     },
     "execution_count": 164,
     "metadata": {},
     "output_type": "execute_result"
    }
   ],
   "source": [
    "big_example = expand_cave(example_data)\n",
    "source = (0, 0)\n",
    "target = (len(big_example) - 1, len(big_example) - 1)\n",
    "t0 = time()\n",
    "path_len = dijkstra(big_example, source, target)\n",
    "path_len, time() - t0"
   ]
  },
  {
   "cell_type": "code",
   "execution_count": 183,
   "id": "417af317",
   "metadata": {},
   "outputs": [
    {
     "data": {
      "text/plain": [
       "(2887, 3308.4878718852997)"
      ]
     },
     "execution_count": 183,
     "metadata": {},
     "output_type": "execute_result"
    }
   ],
   "source": [
    "big_data = expand_cave(data)\n",
    "source = (0, 0)\n",
    "target = (len(big_data) - 1, len(big_data) - 1)\n",
    "t0 = time()\n",
    "path_len = dijkstra(big_data, source, target)\n",
    "path_len, time() - t0\n",
    "# Estimated runtime: 7hrs."
   ]
  },
  {
   "cell_type": "markdown",
   "id": "75c38101",
   "metadata": {},
   "source": [
    "## Day 14"
   ]
  },
  {
   "cell_type": "code",
   "execution_count": 334,
   "id": "545afa56",
   "metadata": {},
   "outputs": [],
   "source": [
    "def seq2dict(seq):\n",
    "    s = [\"{}{}\".format(seq[i], seq[i + 1]) for i in range(len(seq) - 1)]\n",
    "    seq_adj = defaultdict(lambda: 0)\n",
    "    for adj in s:\n",
    "        seq_adj[adj] += 1\n",
    "    return seq_adj\n",
    "\n",
    "def iter_seq(seq, insertions, n_iterations=1):\n",
    "    seq_adj = seq2dict(seq)\n",
    "    copy_adj = seq_adj.copy()  # Do not modify the input\n",
    "    value_counts = defaultdict(lambda: 0)\n",
    "    for s in seq:\n",
    "        value_counts[s] += 1\n",
    "    for i in range(n_iterations):\n",
    "        iter_adj = copy_adj.copy()  # Apply all insertions simultaneously\n",
    "        for (adj1, adj2), ins in insertions:\n",
    "            n_adj = copy_adj[\"{}{}\".format(adj1, adj2)]\n",
    "            if n_adj > 0:\n",
    "                value_counts[ins] += n_adj\n",
    "                iter_adj[\"{}{}\".format(adj1, adj2)] -= n_adj\n",
    "                iter_adj[\"{}{}\".format(adj1, ins)] += n_adj\n",
    "                iter_adj[\"{}{}\".format(ins, adj2)] += n_adj\n",
    "        copy_adj = iter_adj\n",
    "    return min(value_counts.values()), max(value_counts.values())"
   ]
  },
  {
   "cell_type": "code",
   "execution_count": 335,
   "id": "e8747d89",
   "metadata": {},
   "outputs": [
    {
     "data": {
      "text/plain": [
       "1588"
      ]
     },
     "execution_count": 335,
     "metadata": {},
     "output_type": "execute_result"
    }
   ],
   "source": [
    "example_seq = \"NNCB\"\n",
    "example_data = [[\"CH\", \"B\"], [\"HH\", \"N\"], [\"CB\", \"H\"], [\"NH\", \"C\"], [\"HB\", \"C\"], [\"HC\", \"B\"], [\"HN\", \"C\"], [\"NN\", \"C\"], [\"BH\", \"H\"], [\"NC\", \"B\"], [\"NB\", \"B\"], [\"BN\", \"B\"], [\"BB\", \"N\"], [\"BC\", \"B\"], [\"CC\", \"N\"], [\"CN\", \"C\"]]\n",
    "\n",
    "min_count, max_count = iter_seq(example_seq, example_data, 10)\n",
    "max_count - min_count"
   ]
  },
  {
   "cell_type": "code",
   "execution_count": 337,
   "id": "d34c6ea8",
   "metadata": {},
   "outputs": [
    {
     "data": {
      "text/plain": [
       "3243771149914"
      ]
     },
     "execution_count": 337,
     "metadata": {},
     "output_type": "execute_result"
    }
   ],
   "source": [
    "data = list(get_daily_data(14))\n",
    "seq = data.pop(0)\n",
    "data.pop(0)  # empty\n",
    "data = [d.split(' -> ') for d in data]\n",
    "\n",
    "min_count, max_count = iter_seq(seq, data, 40)\n",
    "max_count - min_count"
   ]
  },
  {
   "cell_type": "markdown",
   "id": "44a6708f",
   "metadata": {},
   "source": [
    "## Day 13"
   ]
  },
  {
   "cell_type": "code",
   "execution_count": 125,
   "id": "3213d90a",
   "metadata": {},
   "outputs": [],
   "source": [
    "class Paper:\n",
    "    \n",
    "    def __init__(self, dots):\n",
    "        max_x = max([d[0] for d in dots])\n",
    "        max_y = max([d[1] for d in dots])\n",
    "        self.dots = np.zeros((max_y + 1, max_x + 1)).astype(bool)  # define the matrix \"sideways\"\n",
    "        dots = (np.array([d[1] for d in dots]), np.array([d[0] for d in dots]))\n",
    "        self.dots[dots] = True\n",
    "        \n",
    "    def fold(self, axis, value):\n",
    "        # Note: it is not said explicitly, but \"value\" is always the middle row/column.\n",
    "        if axis == 'y':\n",
    "            m1 = self.dots[:value, :]\n",
    "            m2 = self.dots[value + 1:, :]\n",
    "            m2 = np.flip(m2, axis=0)\n",
    "        else:\n",
    "            self.dots[:, value] = '-'\n",
    "            m1 = self.dots[:, :value]\n",
    "            m2 = self.dots[:, value + 1:]\n",
    "            m2 = np.flip(m2, axis=1)\n",
    "        m = m1 | m2\n",
    "        self.dots = m\n",
    "    \n",
    "    def get_dots(self):\n",
    "        return self.dots.astype(int)\n",
    "    \n",
    "    def get_n_dots(self):\n",
    "        return self.dots.sum()\n",
    "        "
   ]
  },
  {
   "cell_type": "code",
   "execution_count": 126,
   "id": "cd887a2b",
   "metadata": {},
   "outputs": [
    {
     "name": "stdout",
     "output_type": "stream",
     "text": [
      "17\n",
      "[[1 1 1 1 1]\n",
      " [1 0 0 0 1]\n",
      " [1 0 0 0 1]\n",
      " [1 0 0 0 1]\n",
      " [1 1 1 1 1]\n",
      " [0 0 0 0 0]\n",
      " [0 0 0 0 0]]\n"
     ]
    }
   ],
   "source": [
    "example_data = [[6,10], [0,14], [9,10], [0,3], [10,4], [4,11], [6,0], [6,12], [4,1], [0,13], [10,12], [3,4], [3,0], [8,4], [1,10], [2,14], [8,10], [9,0]]\n",
    "p = Paper(example_data)\n",
    "p.fold('y', 7)\n",
    "print(p.get_n_dots())\n",
    "p.fold('x', 5)\n",
    "print(p.get_dots())"
   ]
  },
  {
   "cell_type": "code",
   "execution_count": 127,
   "id": "85f4c4f9",
   "metadata": {},
   "outputs": [],
   "source": [
    "switch = False\n",
    "data = []\n",
    "folds = []\n",
    "for line in get_daily_data(13):\n",
    "    if not switch and line != '':\n",
    "        data.append([int(x) for x in line.split(',')])\n",
    "    elif line == '':\n",
    "        switch = True\n",
    "    elif switch:\n",
    "        f = line.split(' ')[2].split('=')\n",
    "        folds.append([f[0], int(f[1])])"
   ]
  },
  {
   "cell_type": "code",
   "execution_count": 128,
   "id": "25119594",
   "metadata": {},
   "outputs": [
    {
     "data": {
      "text/plain": [
       "720"
      ]
     },
     "execution_count": 128,
     "metadata": {},
     "output_type": "execute_result"
    }
   ],
   "source": [
    "p = Paper(data)\n",
    "f_axis, f_value = folds[0]\n",
    "p.fold(axis=f_axis, value=f_value)\n",
    "p.get_n_dots()"
   ]
  },
  {
   "cell_type": "code",
   "execution_count": 129,
   "id": "40af8bf4",
   "metadata": {},
   "outputs": [
    {
     "data": {
      "text/plain": [
       "<matplotlib.image.AxesImage at 0x12563f550>"
      ]
     },
     "execution_count": 129,
     "metadata": {},
     "output_type": "execute_result"
    },
    {
     "data": {
      "image/png": "[encoded data removed]",
      "text/plain": [
       "<Figure size 432x288 with 1 Axes>"
      ]
     },
     "metadata": {
      "needs_background": "light"
     },
     "output_type": "display_data"
    }
   ],
   "source": [
    "p = Paper(data)\n",
    "for f in folds:\n",
    "    f_axis, f_value = f\n",
    "    p.fold(axis=f_axis, value=f_value)\n",
    "plt.imshow(p.get_dots())"
   ]
  },
  {
   "cell_type": "markdown",
   "id": "d404a9bc",
   "metadata": {},
   "source": [
    "## Day 12"
   ]
  },
  {
   "cell_type": "code",
   "execution_count": 31,
   "id": "d1dc97c1",
   "metadata": {},
   "outputs": [],
   "source": [
    "class CaveNetwork:\n",
    "    \n",
    "    def __init__(self, edge_list):\n",
    "        self.nodes = list(set([x for e in edge_list for x in e]))\n",
    "        self.edges = dict((n, []) for n in self.nodes)\n",
    "        for s, t in edge_list:\n",
    "            if s != \"end\" and t != \"start\":\n",
    "                self.edges[s].append(t)\n",
    "            if s != \"start\" and t != \"end\":\n",
    "                self.edges[t].append(s)      \n",
    "        \n",
    "    def find_all_paths(self):\n",
    "        t0 = time()\n",
    "        source = \"start\"\n",
    "        target = \"end\"\n",
    "        \n",
    "        paths = [[False, source]]\n",
    "        extended = True  # part2 edit\n",
    "        while extended:\n",
    "            extended = False\n",
    "            iter_paths = paths.copy()\n",
    "            prune = []\n",
    "            print(\"Elapsed: {:.2f}s. {} incomplete paths.\".format(time()-t0, len(paths)))\n",
    "            for i, p in enumerate(iter_paths):\n",
    "                if not self.edges[p[-1]] and p[-1] != target:\n",
    "                    prune.append(p)\n",
    "                for e in self.edges[p[-1]]:\n",
    "                    if e.isupper() or (e not in p or not p[0]):  # part2 edit\n",
    "                        pe = p + [e]\n",
    "                        if pe not in paths:\n",
    "                            paths.append(pe)\n",
    "                            extended = True\n",
    "                            prune.append(p)\n",
    "                            if e in p and e.islower():  # part2 edit\n",
    "                                pe[0] = True\n",
    "            for p in prune:\n",
    "                if p in paths:\n",
    "                    paths.remove(p)\n",
    "            prune = []\n",
    "            \n",
    "        paths = [p for p in paths if p[-1] == target]\n",
    "        return len(paths), paths"
   ]
  },
  {
   "cell_type": "code",
   "execution_count": 32,
   "id": "72b6924b",
   "metadata": {
    "scrolled": false
   },
   "outputs": [
    {
     "name": "stdout",
     "output_type": "stream",
     "text": [
      "Elapsed: 0.00s. 1 incomplete paths.\n",
      "Elapsed: 0.00s. 2 incomplete paths.\n",
      "Elapsed: 0.00s. 6 incomplete paths.\n",
      "Elapsed: 0.00s. 10 incomplete paths.\n",
      "Elapsed: 0.00s. 17 incomplete paths.\n",
      "Elapsed: 0.00s. 26 incomplete paths.\n",
      "Elapsed: 0.00s. 35 incomplete paths.\n",
      "Elapsed: 0.00s. 42 incomplete paths.\n",
      "Elapsed: 0.00s. 42 incomplete paths.\n"
     ]
    },
    {
     "data": {
      "text/plain": [
       "(36, 7, 0.0021598339080810547)"
      ]
     },
     "execution_count": 32,
     "metadata": {},
     "output_type": "execute_result"
    }
   ],
   "source": [
    "t0 = time()\n",
    "example1 = [(\"start\", \"A\"), (\"start\", \"b\"), (\"A\", \"c\"), (\"A\", \"b\"), (\"b\", \"d\"), (\"A\", \"end\"), (\"b\", \"end\")]\n",
    "cn = CaveNetwork(example1)\n",
    "np, p = cn.find_all_paths()\n",
    "np, len(example1), time() - t0"
   ]
  },
  {
   "cell_type": "code",
   "execution_count": 33,
   "id": "4dc7dffb",
   "metadata": {},
   "outputs": [
    {
     "name": "stdout",
     "output_type": "stream",
     "text": [
      "Elapsed: 0.00s. 1 incomplete paths.\n",
      "Elapsed: 0.00s. 3 incomplete paths.\n",
      "Elapsed: 0.00s. 10 incomplete paths.\n",
      "Elapsed: 0.00s. 24 incomplete paths.\n",
      "Elapsed: 0.00s. 54 incomplete paths.\n",
      "Elapsed: 0.00s. 100 incomplete paths.\n",
      "Elapsed: 0.00s. 139 incomplete paths.\n",
      "Elapsed: 0.00s. 153 incomplete paths.\n",
      "Elapsed: 0.00s. 153 incomplete paths.\n"
     ]
    },
    {
     "data": {
      "text/plain": [
       "(103, 10, 0.003088235855102539)"
      ]
     },
     "execution_count": 33,
     "metadata": {},
     "output_type": "execute_result"
    }
   ],
   "source": [
    "t0 = time()\n",
    "example2 = [(\"dc\", \"end\"), (\"HN\", \"start\"), (\"start\", \"kj\"), (\"dc\", \"start\"), (\"dc\", \"HN\"), (\"LN\", \"dc\"), (\"HN\", \"end\"), (\"kj\", \"sa\"), (\"kj\", \"HN\"), (\"kj\", \"dc\")]\n",
    "cn = CaveNetwork(example2)\n",
    "np, p = cn.find_all_paths()\n",
    "np, len(example2), time() - t0"
   ]
  },
  {
   "cell_type": "code",
   "execution_count": 35,
   "id": "00cadf12",
   "metadata": {},
   "outputs": [
    {
     "name": "stdout",
     "output_type": "stream",
     "text": [
      "Elapsed: 0.00s. 1 incomplete paths.\n",
      "Elapsed: 0.00s. 3 incomplete paths.\n",
      "Elapsed: 0.00s. 11 incomplete paths.\n",
      "Elapsed: 0.00s. 52 incomplete paths.\n",
      "Elapsed: 0.00s. 195 incomplete paths.\n",
      "Elapsed: 0.02s. 699 incomplete paths.\n",
      "Elapsed: 0.15s. 2016 incomplete paths.\n",
      "Elapsed: 0.75s. 4492 incomplete paths.\n",
      "Elapsed: 2.21s. 7698 incomplete paths.\n",
      "Elapsed: 4.16s. 10536 incomplete paths.\n",
      "Elapsed: 5.38s. 12083 incomplete paths.\n",
      "Elapsed: 5.70s. 12537 incomplete paths.\n"
     ]
    },
    {
     "data": {
      "text/plain": [
       "(3509, 18, 5.7128682136535645)"
      ]
     },
     "execution_count": 35,
     "metadata": {},
     "output_type": "execute_result"
    }
   ],
   "source": [
    "t0 = time()\n",
    "example3 = [(\"fs\", \"end\"), (\"he\", \"DX\"), (\"fs\", \"he\"), (\"start\", \"DX\"), (\"pj\", \"DX\"), (\"end\", \"zg\"), (\"zg\", \"sl\"), (\"zg\", \"pj\"), (\"pj\", \"he\"), (\"RW\", \"he\"), (\"fs\", \"DX\"), (\"pj\", \"RW\"), (\"zg\", \"RW\"), (\"start\", \"pj\"), (\"he\", \"WI\"), (\"zg\", \"he\"), (\"pj\", \"fs\"), (\"start\", \"RW\")]\n",
    "cn = CaveNetwork(example3)\n",
    "np, p = cn.find_all_paths()\n",
    "np, len(example3), time() - t0"
   ]
  },
  {
   "cell_type": "code",
   "execution_count": 37,
   "id": "3a211490",
   "metadata": {},
   "outputs": [
    {
     "name": "stdout",
     "output_type": "stream",
     "text": [
      "Elapsed: 0.00s. 1 incomplete paths.\n",
      "Elapsed: 0.00s. 3 incomplete paths.\n",
      "Elapsed: 0.00s. 12 incomplete paths.\n",
      "Elapsed: 0.00s. 50 incomplete paths.\n",
      "Elapsed: 0.00s. 197 incomplete paths.\n",
      "Elapsed: 0.02s. 713 incomplete paths.\n",
      "Elapsed: 0.21s. 2386 incomplete paths.\n",
      "Elapsed: 2.09s. 7180 incomplete paths.\n",
      "Elapsed: 13.68s. 18801 incomplete paths.\n",
      "Elapsed: 79.08s. 43008 incomplete paths.\n",
      "Elapsed: 314.68s. 82475 incomplete paths.\n",
      "Elapsed: 929.84s. 139333 incomplete paths.\n",
      "Elapsed: 2092.71s. 206567 incomplete paths.\n",
      "Elapsed: 3564.44s. 270249 incomplete paths.\n",
      "Elapsed: 4708.28s. 314887 incomplete paths.\n",
      "Elapsed: 5153.93s. 333119 incomplete paths.\n"
     ]
    },
    {
     "data": {
      "text/plain": [
       "99138"
      ]
     },
     "execution_count": 37,
     "metadata": {},
     "output_type": "execute_result"
    }
   ],
   "source": [
    "data = list(get_daily_data(12, sep='-'))\n",
    "cn = CaveNetwork(data)\n",
    "np, p = cn.find_all_paths()\n",
    "np"
   ]
  },
  {
   "cell_type": "code",
   "execution_count": null,
   "id": "d110c383",
   "metadata": {},
   "outputs": [],
   "source": []
  },
  {
   "cell_type": "markdown",
   "id": "ba98a2f4",
   "metadata": {},
   "source": [
    "## Day 11"
   ]
  },
  {
   "cell_type": "code",
   "execution_count": 510,
   "id": "5b8b7857",
   "metadata": {},
   "outputs": [],
   "source": [
    "def get_adjacent(m, idx):\n",
    "    adj_idx = []\n",
    "    for i, j in zip(*idx):\n",
    "        adj_idx += [(i+1, j), (i-1, j), (i, j+1), (i, j-1), (i+1, j+1), (i-1, j-1), (i+1, j-1), (i-1, j+1)]\n",
    "    adj_idx = [(i, j) for i, j in adj_idx if i >= 0 and j >= 0 and i < m.shape[0] and j < m.shape[1]]\n",
    "    return adj_idx\n",
    "    \n",
    "\n",
    "def simulate_flashes(m, n_iterations, stop_on_sync=False):\n",
    "    n_flashed_total = 0\n",
    "    for r in range(n_iterations):\n",
    "        flashed = np.zeros(m.shape).astype(bool)\n",
    "        m += 1\n",
    "        flash = np.where((m > 9) & ~flashed)\n",
    "        n_flashed = len(flash[0])\n",
    "        flashed[flash] = True\n",
    "        while n_flashed > 0:\n",
    "            n_flashed_total += n_flashed\n",
    "            m[flash] = 0\n",
    "            adj = get_adjacent(m, flash)\n",
    "            for i, j in adj:\n",
    "                if not flashed[i, j]:\n",
    "                    m[i, j] += 1\n",
    "            flash = np.where((m > 9) & ~flashed)\n",
    "            n_flashed = len(flash[0])\n",
    "            flashed[flash] = True\n",
    "        if stop_on_sync and flashed.all():\n",
    "            return r + 1, m\n",
    "    return n_flashed_total, m"
   ]
  },
  {
   "cell_type": "code",
   "execution_count": 517,
   "id": "e698f026",
   "metadata": {},
   "outputs": [
    {
     "data": {
      "text/plain": [
       "array([[3, 4, 5, 4, 3],\n",
       "       [4, 0, 0, 0, 4],\n",
       "       [5, 0, 0, 0, 5],\n",
       "       [4, 0, 0, 0, 4],\n",
       "       [3, 4, 5, 4, 3]])"
      ]
     },
     "execution_count": 517,
     "metadata": {},
     "output_type": "execute_result"
    }
   ],
   "source": [
    "small_example = [\"11111\", \"19991\", \"19191\", \"19991\", \"11111\"]\n",
    "small_example = np.array([[int(x) for x in l] for l in small_example])\n",
    "n, m = simulate_flashes(small_example, 1)\n",
    "m"
   ]
  },
  {
   "cell_type": "code",
   "execution_count": 515,
   "id": "8ddd54e5",
   "metadata": {},
   "outputs": [
    {
     "data": {
      "text/plain": [
       "1656"
      ]
     },
     "execution_count": 515,
     "metadata": {},
     "output_type": "execute_result"
    }
   ],
   "source": [
    "example_data = [\"5483143223\", \"2745854711\", \"5264556173\", \"6141336146\", \"6357385478\", \"4167524645\", \"2176841721\", \"6882881134\", \"4846848554\", \"5283751526\"]\n",
    "example_data = np.array([[int(x) for x in l] for l in example_data])\n",
    "example_data\n",
    "n, m = simulate_flashes(example_data, 100)\n",
    "n"
   ]
  },
  {
   "cell_type": "code",
   "execution_count": 492,
   "id": "da4c2c2b",
   "metadata": {},
   "outputs": [
    {
     "data": {
      "text/plain": [
       "1705"
      ]
     },
     "execution_count": 492,
     "metadata": {},
     "output_type": "execute_result"
    }
   ],
   "source": [
    "data = get_daily_data(11)\n",
    "data = np.array([[int(x) for x in l] for l in data])\n",
    "n, m = simulate_flashes(data, 100)\n",
    "n"
   ]
  },
  {
   "cell_type": "code",
   "execution_count": 511,
   "id": "12f0018d",
   "metadata": {},
   "outputs": [
    {
     "data": {
      "text/plain": [
       "(195,\n",
       " array([[0, 0, 0, 0, 0, 0, 0, 0, 0, 0],\n",
       "        [0, 0, 0, 0, 0, 0, 0, 0, 0, 0],\n",
       "        [0, 0, 0, 0, 0, 0, 0, 0, 0, 0],\n",
       "        [0, 0, 0, 0, 0, 0, 0, 0, 0, 0],\n",
       "        [0, 0, 0, 0, 0, 0, 0, 0, 0, 0],\n",
       "        [0, 0, 0, 0, 0, 0, 0, 0, 0, 0],\n",
       "        [0, 0, 0, 0, 0, 0, 0, 0, 0, 0],\n",
       "        [0, 0, 0, 0, 0, 0, 0, 0, 0, 0],\n",
       "        [0, 0, 0, 0, 0, 0, 0, 0, 0, 0],\n",
       "        [0, 0, 0, 0, 0, 0, 0, 0, 0, 0]]))"
      ]
     },
     "execution_count": 511,
     "metadata": {},
     "output_type": "execute_result"
    }
   ],
   "source": [
    "example_data = [\"5483143223\", \"2745854711\", \"5264556173\", \"6141336146\", \"6357385478\", \"4167524645\", \"2176841721\", \"6882881134\", \"4846848554\", \"5283751526\"]\n",
    "example_data = np.array([[int(x) for x in l] for l in example_data])\n",
    "example_data\n",
    "n, m = simulate_flashes(example_data, 195, stop_on_sync=True)\n",
    "n, m"
   ]
  },
  {
   "cell_type": "code",
   "execution_count": 513,
   "id": "1d170ae1",
   "metadata": {},
   "outputs": [
    {
     "data": {
      "text/plain": [
       "265"
      ]
     },
     "execution_count": 513,
     "metadata": {},
     "output_type": "execute_result"
    }
   ],
   "source": [
    "data = get_daily_data(11)\n",
    "data = np.array([[int(x) for x in l] for l in data])\n",
    "i, m = simulate_flashes(data, 1000, stop_on_sync=True)\n",
    "i"
   ]
  },
  {
   "cell_type": "markdown",
   "id": "96329fc5",
   "metadata": {},
   "source": [
    "## Day 10"
   ]
  },
  {
   "cell_type": "code",
   "execution_count": 390,
   "id": "f5ff5289",
   "metadata": {},
   "outputs": [],
   "source": [
    "example_data = [\"[({(<(())[]>[[{[]{<()<>>\", \"[(()[<>])]({[<{<<[]>>(\", \"{([(<{}[<>[]}>{[]{[(<()>\", \"(((({<>}<{<{<>}{[]{[]{}\", \"[[<[([]))<([[{}[[()]]]\", \"[{[{({}]{}}([{[{{{}}([]\", \"{<[[]]>}<{[{[{[]{()[[[]\", \"[<(<(<(<{}))><([]([]()\", \"<{([([[(<>()){}]>(<<{{\", \"<{([{{}}[<[[[<>{}]]]>[]]\"]"
   ]
  },
  {
   "cell_type": "code",
   "execution_count": null,
   "id": "2b08849e",
   "metadata": {},
   "outputs": [],
   "source": [
    "# Use a stack to record the chunk opening characters and use a rules dictionary to identify valid end characters\n",
    "# It is always legal to add another opening character onto the stack.\n",
    "# If the stack is not empty at the end of the line, then the chunk is incomplete\n",
    "# If the next character in the string is not a valid closing character for the top of the stack, then the chunk is corrupt"
   ]
  },
  {
   "cell_type": "code",
   "execution_count": 382,
   "id": "5721ab97",
   "metadata": {},
   "outputs": [],
   "source": [
    "syntax_rules = {\"[\": \"]\", \"{\": \"}\", \"<\": \">\", \"(\": \")\"}"
   ]
  },
  {
   "cell_type": "code",
   "execution_count": 377,
   "id": "bf2956e5",
   "metadata": {},
   "outputs": [],
   "source": [
    "def check_syntax(chars):\n",
    "    error_score = {\")\": 3, \"]\": 57, \"}\": 1197, \">\": 25137}\n",
    "    stack = []\n",
    "    for c in chars:\n",
    "        if c in syntax_rules.keys():\n",
    "            stack.insert(0, c)\n",
    "        elif c in syntax_rules.values():\n",
    "            if syntax_rules[stack[0]] == c:\n",
    "                stack.pop(0)\n",
    "            else:\n",
    "                return error_score[c]\n",
    "    if len(stack) > 0:\n",
    "        pass\n",
    "    return 0"
   ]
  },
  {
   "cell_type": "code",
   "execution_count": 379,
   "id": "849c065a",
   "metadata": {},
   "outputs": [
    {
     "data": {
      "text/plain": [
       "26397"
      ]
     },
     "execution_count": 379,
     "metadata": {},
     "output_type": "execute_result"
    }
   ],
   "source": [
    "sum([check_syntax(d) for d in example_data])"
   ]
  },
  {
   "cell_type": "code",
   "execution_count": 380,
   "id": "caa83975",
   "metadata": {},
   "outputs": [
    {
     "data": {
      "text/plain": [
       "265527"
      ]
     },
     "execution_count": 380,
     "metadata": {},
     "output_type": "execute_result"
    }
   ],
   "source": [
    "sum([check_syntax(d) for d in get_daily_data(10)])"
   ]
  },
  {
   "cell_type": "code",
   "execution_count": 394,
   "id": "4b6b9766",
   "metadata": {},
   "outputs": [],
   "source": [
    "def complete_syntax(chars):   \n",
    "    completion_score = {\")\": 1, \"]\": 2, \"}\": 3, \">\": 4}    \n",
    "    stack = []\n",
    "    for c in chars:\n",
    "        if c in syntax_rules.keys():\n",
    "            stack.insert(0, c)\n",
    "        elif c in syntax_rules.values():\n",
    "            if syntax_rules[stack[0]] == c:\n",
    "                stack.pop(0)\n",
    "            else:\n",
    "                return None\n",
    "    score = 0\n",
    "    while len(stack) > 0:\n",
    "        next_char = syntax_rules[stack.pop(0)]\n",
    "        score *= 5\n",
    "        score += completion_score[next_char]\n",
    "    return score"
   ]
  },
  {
   "cell_type": "code",
   "execution_count": 402,
   "id": "7084dfba",
   "metadata": {},
   "outputs": [
    {
     "data": {
      "text/plain": [
       "288957"
      ]
     },
     "execution_count": 402,
     "metadata": {},
     "output_type": "execute_result"
    }
   ],
   "source": [
    "scores = [complete_syntax(d) for d in example_data]\n",
    "scores = [s for s in scores if s]\n",
    "sorted(scores)[int(len(scores)/2)]"
   ]
  },
  {
   "cell_type": "code",
   "execution_count": 403,
   "id": "89fbeaf0",
   "metadata": {},
   "outputs": [
    {
     "data": {
      "text/plain": [
       "3969823589"
      ]
     },
     "execution_count": 403,
     "metadata": {},
     "output_type": "execute_result"
    }
   ],
   "source": [
    "scores = [complete_syntax(d) for d in get_daily_data(10)]\n",
    "scores = [s for s in scores if s]\n",
    "sorted(scores)[int(len(scores)/2)]"
   ]
  },
  {
   "cell_type": "markdown",
   "id": "c06714b2",
   "metadata": {},
   "source": [
    "## Day 9"
   ]
  },
  {
   "cell_type": "code",
   "execution_count": 366,
   "id": "8692dbd3",
   "metadata": {},
   "outputs": [],
   "source": [
    "def lt_adj(mat, a, b):\n",
    "    if b[0] < 0 or b[1] < 0:\n",
    "        return True\n",
    "    try:\n",
    "        return mat[a] < mat[b]\n",
    "    except IndexError:\n",
    "        return True\n",
    "\n",
    "class FloorHeight:\n",
    "    \n",
    "    def __init__(self, height_data):\n",
    "        self.height = np.array(height_data, dtype=int)\n",
    "        self._minima = None\n",
    "        self._ridge = None\n",
    "        \n",
    "    @property\n",
    "    def risk_levels(self):\n",
    "        risk_levels = np.zeros(self.height.shape).astype(int)\n",
    "        risk_levels[self.minima] = self.height[self.minima] + 1\n",
    "        return risk_levels\n",
    "    \n",
    "    @property\n",
    "    def minima(self):\n",
    "        if self._minima is None:\n",
    "            minima = np.zeros(self.height.shape).astype('bool')\n",
    "            x, y = self.height.shape\n",
    "            for i in range(x):\n",
    "                for j in range(y):\n",
    "                    adj = [(i+1, j), (i-1, j), (i, j+1), (i, j-1)]\n",
    "                    minima[i, j] = all([lt_adj(self.height, (i, j), adj_ij) for adj_ij in adj])\n",
    "            self._minima = minima\n",
    "        return self._minima\n",
    "    \n",
    "    @property\n",
    "    def ridge(self):\n",
    "        if self._ridge is None:\n",
    "            self._ridge = (self.height == 9)\n",
    "        return self._ridge\n",
    "    \n",
    "    def get_risk(self):\n",
    "        return self.risk_levels.sum(dtype=int)\n",
    "    \n",
    "    def get_height(self, i, j):\n",
    "        if i < 0 or j < 0:\n",
    "            return 9\n",
    "        try:\n",
    "            return self.height[i, j]\n",
    "        except IndexError:\n",
    "            return 9\n",
    "    \n",
    "    def find_basins(self):\n",
    "        basins = []\n",
    "        for m in zip(*np.where(self.minima)):\n",
    "            basin = [m]\n",
    "            i, j = m\n",
    "            candidates = [(i+1, j), (i-1, j), (i, j+1), (i, j-1)]\n",
    "            candidates = [c for c in candidates if c not in basin]\n",
    "            candidates = [c for c in candidates if self.get_height(*c) != 9]\n",
    "            while len(candidates) > 0:\n",
    "                basin += candidates\n",
    "                candidates = list(set([c for i, j in basin for c in [(i+1, j), (i-1, j), (i, j+1), (i, j-1)]]))\n",
    "                candidates = [c for c in candidates if c not in basin]\n",
    "                candidates = [c for c in candidates if self.get_height(*c) != 9]\n",
    "            basins.append(sorted(basin))\n",
    "            basin = []\n",
    "        basins = sorted([(len(b), b) for b in basins], reverse=True)\n",
    "        return basins\n",
    "    \n",
    "    def score_basins(self):\n",
    "        basins = self.find_basins()\n",
    "        return np.product([b[0] for b in basins[:3]])\n",
    "    \n",
    "    def plot(self):\n",
    "        fig, ax = plt.subplots(1, 3, figsize=(15, 5), dpi=300)\n",
    "        ax[0].set_title(\"Sea Floor Height\", fontsize=16)\n",
    "        ax[0].imshow(self.height, cmap='bone')\n",
    "        ax[1].set_title(\"Smoke Risk\", fontsize=16)\n",
    "        ax[1].imshow(self.risk_levels, 'gist_heat')\n",
    "        ax[2].set_title(\"Basins\", fontsize=16)\n",
    "        ax[2].imshow(self.ridge, 'binary')\n",
    "        for x in ax:\n",
    "            x.set_xticklabels([], visible=False)\n",
    "            x.set_yticklabels([], visible=False)\n",
    "        sns.despine(bottom=True, left=True)"
   ]
  },
  {
   "cell_type": "code",
   "execution_count": 367,
   "id": "38f56877",
   "metadata": {
    "scrolled": false
   },
   "outputs": [
    {
     "data": {
      "text/plain": [
       "1134"
      ]
     },
     "execution_count": 367,
     "metadata": {},
     "output_type": "execute_result"
    },
    {
     "data": {
      "image/png": "[encoded data removed]",
      "text/plain": [
       "<Figure size 4500x1500 with 3 Axes>"
      ]
     },
     "metadata": {},
     "output_type": "display_data"
    }
   ],
   "source": [
    "example_data = [\"2199943210\", \"3987894921\", \"9856789892\", \"8767896789\", \"9899965678\"]\n",
    "example_data = [[int(x) for x in l] for l in example_data]\n",
    "example_data = np.array(example_data)\n",
    "floor = FloorHeight(example_data)\n",
    "floor.plot()\n",
    "floor.get_risk()\n",
    "floor.score_basins()"
   ]
  },
  {
   "cell_type": "code",
   "execution_count": 368,
   "id": "262e80e2",
   "metadata": {},
   "outputs": [
    {
     "data": {
      "text/plain": [
       "964712"
      ]
     },
     "execution_count": 368,
     "metadata": {},
     "output_type": "execute_result"
    },
    {
     "data": {
      "image/png": "[encoded data removed]",
      "text/plain": [
       "<Figure size 4500x1500 with 3 Axes>"
      ]
     },
     "metadata": {},
     "output_type": "display_data"
    }
   ],
   "source": [
    "data = [[int(x) for x in l] for l in get_daily_data(9)]\n",
    "floor = FloorHeight(data)\n",
    "floor.plot()\n",
    "floor.get_risk()\n",
    "floor.score_basins()"
   ]
  },
  {
   "cell_type": "markdown",
   "id": "21388f89",
   "metadata": {},
   "source": [
    "## Day 8"
   ]
  },
  {
   "cell_type": "code",
   "execution_count": null,
   "id": "791b92af",
   "metadata": {},
   "outputs": [],
   "source": [
    "example_data = \\\n",
    "[[\"be cfbegad cbdgef fgaecd cgeb fdcge agebfd fecdb fabcd edb\", \"fdgacbe cefdb cefbgd gcbe\"],\n",
    "[\"edbfga begcd cbg gc gcadebf fbgde acbgfd abcde gfcbed gfec\", \"fcgedb cgb dgebacf gc\"],\n",
    "[\"fgaebd cg bdaec gdafb agbcfd gdcbef bgcad gfac gcb cdgabef\", \"cg cg fdcagb cbg\"],\n",
    "[\"fbegcd cbd adcefb dageb afcb bc aefdc ecdab fgdeca fcdbega\", \"efabcd cedba gadfec cb\"],\n",
    "[\"aecbfdg fbg gf bafeg dbefa fcge gcbea fcaegb dgceab fcbdga\", \"gecf egdcabf bgf bfgea\"],\n",
    "[\"fgeab ca afcebg bdacfeg cfaedg gcfdb baec bfadeg bafgc acf\", \"gebdcfa ecba ca fadegcb\"],\n",
    "[\"dbcfg fgd bdegcaf fgec aegbdf ecdfab fbedc dacgb gdcebf gf\", \"cefg dcbef fcge gbcadfe\"],\n",
    "[\"bdfegc cbegaf gecbf dfcage bdacg ed bedf ced adcbefg gebcd\", \"ed bcgafe cdgba cbgef\"],\n",
    "[\"egadfb cdbfeg cegd fecab cgb gbdefca cg fgcdab egfdb bfceg\", \"gbdfcae bgc cg cgb\"],\n",
    "[\"gcafb gcf dcaebfg ecagb gf abcdeg gaef cafbge fdbac fegbdc\", \"fgae cfgab fg bagce\"]]"
   ]
  },
  {
   "cell_type": "code",
   "execution_count": null,
   "id": "bb0c94eb",
   "metadata": {},
   "outputs": [],
   "source": [
    "data = list(get_daily_data(8, sep='|'))"
   ]
  },
  {
   "cell_type": "code",
   "execution_count": null,
   "id": "8e903e4d",
   "metadata": {},
   "outputs": [],
   "source": [
    "n_digits = {1: 2, 2:5, 3:5, 4:4, 5:5, 6:6, 7:3, 8:7, 9:6}"
   ]
  },
  {
   "cell_type": "code",
   "execution_count": null,
   "id": "ea95f979",
   "metadata": {},
   "outputs": [],
   "source": [
    "def part1(data):\n",
    "    answer = 0\n",
    "    for sequence, output in data:\n",
    "        output = output.split()\n",
    "        answer += len([x for x in output if len(x) in (2, 3, 4, 7)])\n",
    "    return answer"
   ]
  },
  {
   "cell_type": "code",
   "execution_count": null,
   "id": "eccab0ee",
   "metadata": {},
   "outputs": [],
   "source": [
    "part1(example_data)"
   ]
  },
  {
   "cell_type": "code",
   "execution_count": null,
   "id": "bd86944a",
   "metadata": {},
   "outputs": [],
   "source": [
    "part1(data)"
   ]
  },
  {
   "attachments": {
    "image.png": {
     "image/png": "[encoded data removed]"
    }
   },
   "cell_type": "markdown",
   "id": "c726c95b",
   "metadata": {},
   "source": [
    "![image.png](attachment:image.png)"
   ]
  },
  {
   "cell_type": "code",
   "execution_count": null,
   "id": "07b0decd",
   "metadata": {},
   "outputs": [],
   "source": [
    "from itertools import permutations"
   ]
  },
  {
   "cell_type": "code",
   "execution_count": null,
   "id": "17886be0",
   "metadata": {},
   "outputs": [],
   "source": [
    "letters = ['a', 'b', 'c', 'd', 'e', 'f', 'g']\n",
    "all_possible_maps = [dict(zip(each_permutation, letters)) for each_permutation in permutations(letters, len(letters))]\n",
    "digit_sequences = {'abcefg': '0', 'cf': '1', 'acdeg': '2', 'acdfg': '3', 'bcdf': '4',\n",
    "     'abdfg': '5', 'abdefg': '6', 'acf': '7', 'abcdefg': '8', 'abcdfg': '9'}"
   ]
  },
  {
   "cell_type": "code",
   "execution_count": null,
   "id": "0a4da094",
   "metadata": {},
   "outputs": [],
   "source": [
    "def seq2digit(true_seq):\n",
    "    return digit_sequences[''.join(sorted(true_seq))]"
   ]
  },
  {
   "cell_type": "code",
   "execution_count": null,
   "id": "34f85fcb",
   "metadata": {},
   "outputs": [],
   "source": [
    "def is_valid(sequence):\n",
    "    # Valid if all sequences are valid digits.\n",
    "    try:\n",
    "        _ = [seq2digit(s) for s in sequence]\n",
    "        return True\n",
    "    except:\n",
    "        return False"
   ]
  },
  {
   "cell_type": "code",
   "execution_count": null,
   "id": "d2a7a729",
   "metadata": {},
   "outputs": [],
   "source": [
    "def deduce_wiring(sequence):\n",
    "    i = 0\n",
    "    for wire_map in all_possible_maps:\n",
    "        new_seq = [''.join([wire_map[s] for s in seq]) for seq in sequence]\n",
    "        if is_valid(new_seq):\n",
    "            break\n",
    "    \n",
    "    return wire_map"
   ]
  },
  {
   "cell_type": "code",
   "execution_count": null,
   "id": "e82eadfe",
   "metadata": {},
   "outputs": [],
   "source": [
    "def decode(sequence, wire_map):\n",
    "    digits = []\n",
    "    for dig_seq in sequence:\n",
    "        true_seq = ''.join([wire_map[ds] for ds in dig_seq])\n",
    "        digits.append(seq2digit(true_seq))\n",
    "    return ''.join(digits)"
   ]
  },
  {
   "cell_type": "code",
   "execution_count": null,
   "id": "f9a9d706",
   "metadata": {},
   "outputs": [],
   "source": [
    "def decode_output(sequence, output):\n",
    "    \n",
    "    sequence = sequence.split()\n",
    "    output = output.split()\n",
    "\n",
    "    wire_map = deduce_wiring(sequence)\n",
    "    decoded_output = decode(output, wire_map)\n",
    "            \n",
    "    return decoded_output"
   ]
  },
  {
   "cell_type": "code",
   "execution_count": null,
   "id": "f98aa1fa",
   "metadata": {},
   "outputs": [],
   "source": [
    "def decode_sequences(data):\n",
    "    for sequence, output in data:\n",
    "        yield decode_output(sequence, output)"
   ]
  },
  {
   "cell_type": "code",
   "execution_count": null,
   "id": "d0df0da2",
   "metadata": {},
   "outputs": [],
   "source": [
    "for digit in decode_sequences(example_data):\n",
    "    print(digit)"
   ]
  },
  {
   "cell_type": "code",
   "execution_count": null,
   "id": "f7bc3cf9",
   "metadata": {
    "scrolled": false
   },
   "outputs": [],
   "source": [
    "d_sum = 0\n",
    "for digit in decode_sequences(data):\n",
    "    d_sum += int(digit)\n",
    "d_sum"
   ]
  },
  {
   "cell_type": "code",
   "execution_count": null,
   "id": "76c398a9",
   "metadata": {},
   "outputs": [],
   "source": []
  },
  {
   "cell_type": "markdown",
   "id": "95a1db4a",
   "metadata": {},
   "source": [
    "## Day 7"
   ]
  },
  {
   "cell_type": "code",
   "execution_count": null,
   "id": "999e482c",
   "metadata": {},
   "outputs": [],
   "source": [
    "example_data = [16,1,2,0,4,2,7,1,2,14]"
   ]
  },
  {
   "cell_type": "code",
   "execution_count": null,
   "id": "d0d7fe5c",
   "metadata": {},
   "outputs": [],
   "source": [
    "crab_data = [int(x) for l in get_daily_data(7, sep=',') for x in l]"
   ]
  },
  {
   "cell_type": "code",
   "execution_count": null,
   "id": "1e4fc080",
   "metadata": {},
   "outputs": [],
   "source": [
    "def calc_cost(d):\n",
    "    return int((d * (d + 1)) / 2)"
   ]
  },
  {
   "cell_type": "code",
   "execution_count": null,
   "id": "61cf708c",
   "metadata": {},
   "outputs": [],
   "source": [
    "def get_cost(data, pos):\n",
    "#     cost = sum([abs(d-pos) for d in data])\n",
    "    cost = sum([calc_cost(abs(d-pos)) for d in data])\n",
    "    return cost"
   ]
  },
  {
   "cell_type": "code",
   "execution_count": null,
   "id": "d6e95f02",
   "metadata": {},
   "outputs": [],
   "source": [
    "def most_efficient_alignment(data):\n",
    "    min_pos = min(data)\n",
    "    max_pos = max(data)\n",
    "    cost_dict = dict((pos, get_cost(data, pos)) for pos in range(min_pos, max_pos + 1))\n",
    "    cost_list = [t for t in cost_dict.items()]\n",
    "    cost_list = sorted(cost_list, key=lambda x: x[1])\n",
    "    return cost_list.pop(0)"
   ]
  },
  {
   "cell_type": "code",
   "execution_count": null,
   "id": "8d626fa8",
   "metadata": {},
   "outputs": [],
   "source": [
    "most_efficient_alignment(example_data)"
   ]
  },
  {
   "cell_type": "code",
   "execution_count": null,
   "id": "90466001",
   "metadata": {},
   "outputs": [],
   "source": [
    "most_efficient_alignment(crab_data)"
   ]
  },
  {
   "cell_type": "markdown",
   "id": "c051b403",
   "metadata": {},
   "source": [
    "## Day 6"
   ]
  },
  {
   "cell_type": "code",
   "execution_count": null,
   "id": "c7573cf0",
   "metadata": {},
   "outputs": [],
   "source": [
    "fisher_timers = [int(x) for x in next(get_daily_data(6)).split(',')]\n",
    "example_input = [3,4,3,1,2]"
   ]
  },
  {
   "cell_type": "code",
   "execution_count": null,
   "id": "e6705ba0",
   "metadata": {},
   "outputs": [],
   "source": [
    "def model_fish(data, n_generations=80):\n",
    "\n",
    "    new_timer = 8\n",
    "    reset_timer = 6\n",
    "    \n",
    "    fish = dict((i, 0) for i in range(9))\n",
    "    for f in data:\n",
    "        fish[f] += 1\n",
    "\n",
    "    for g in range(n_generations):\n",
    "        new_fish = fish[0]\n",
    "        for i in range(8):\n",
    "            fish[i] = fish[i+1]\n",
    "        fish[reset_timer] += new_fish\n",
    "        fish[new_timer] = new_fish\n",
    "    return sum(fish.values())"
   ]
  },
  {
   "cell_type": "code",
   "execution_count": null,
   "id": "5eccffa5",
   "metadata": {},
   "outputs": [],
   "source": [
    "model_fish(example_input, 18)"
   ]
  },
  {
   "cell_type": "code",
   "execution_count": null,
   "id": "ebda5cba",
   "metadata": {},
   "outputs": [],
   "source": [
    "model_fish(example_input, 80)"
   ]
  },
  {
   "cell_type": "code",
   "execution_count": null,
   "id": "e807dad5",
   "metadata": {},
   "outputs": [],
   "source": [
    "model_fish(fisher_timers, 80)"
   ]
  },
  {
   "cell_type": "code",
   "execution_count": null,
   "id": "23c8138c",
   "metadata": {},
   "outputs": [],
   "source": [
    "model_fish(example_input, 256)"
   ]
  },
  {
   "cell_type": "code",
   "execution_count": null,
   "id": "a620e713",
   "metadata": {},
   "outputs": [],
   "source": [
    "model_fish(fisher_timers, 256)"
   ]
  },
  {
   "cell_type": "markdown",
   "id": "2d87bae0",
   "metadata": {},
   "source": [
    "## Day 5"
   ]
  },
  {
   "cell_type": "code",
   "execution_count": null,
   "id": "932100a6",
   "metadata": {},
   "outputs": [],
   "source": [
    "def parse_coordinates(line):\n",
    "    row = line.split()\n",
    "    coords = row[0].split(',') + row[2].split(',')\n",
    "    coords = [int(c) for c in coords]\n",
    "    return coords"
   ]
  },
  {
   "cell_type": "code",
   "execution_count": null,
   "id": "03877169",
   "metadata": {},
   "outputs": [],
   "source": [
    "class SeaVents:\n",
    "    \n",
    "    def __init__(self, lines):\n",
    "        self.lines = np.array(lines, dtype=int)\n",
    "        # Note that the vents matrix is transposed\n",
    "        # The x coordinate is the row and the y coordinate is the column\n",
    "        self.max_x = max(self.lines[:, 0].max(), self.lines[:, 2].max())\n",
    "        self.max_y = max(self.lines[:, 1].max(), self.lines[:, 3].max())\n",
    "        self.vents = np.zeros((self.max_x + 1, self.max_y + 1))\n",
    "        \n",
    "    def map_vents(self, diagonals=False):\n",
    "        n_h = 0\n",
    "        n_v = 0\n",
    "        n_d = 0\n",
    "        for line in self.lines:\n",
    "            source = [line[0], line[1]]\n",
    "            target = [line[2], line[3]]\n",
    "            \n",
    "            # Record vent at source (NOT target)\n",
    "            \n",
    "            \n",
    "            dx = source[0] - target[0]\n",
    "            dy = source[1] - target[1]\n",
    "            \n",
    "            # Record vents between source and target\n",
    "            if dx == 0:\n",
    "                self.vents[source[0], source[1]] += 1\n",
    "                n_v += 1\n",
    "                while dy > 0:\n",
    "                    source[1] -= 1\n",
    "                    self.vents[source[0], source[1]] += 1\n",
    "                    dy -= 1\n",
    "                while dy < 0:\n",
    "                    source[1] += 1\n",
    "                    self.vents[source[0], source[1]] += 1\n",
    "                    dy += 1\n",
    "                if source != target:\n",
    "                    raise Exception(\"{} != {}\".format(source, target))\n",
    "            elif dy == 0:\n",
    "                self.vents[source[0], source[1]] += 1\n",
    "                n_h += 1\n",
    "                while dx > 0:\n",
    "                    source[0] -= 1\n",
    "                    self.vents[source[0], source[1]] += 1\n",
    "                    dx -= 1\n",
    "                while dx < 0:\n",
    "                    source[0] += 1\n",
    "                    self.vents[source[0], source[1]] += 1\n",
    "                    dx += 1\n",
    "                if source != target:\n",
    "                    raise Exception(\"{} != {}\".format(source, target))\n",
    "            elif diagonals:\n",
    "                self.vents[source[0], source[1]] += 1\n",
    "                n_d += 1\n",
    "                while dx > 0 and dy > 0:\n",
    "                    source[0] -= 1\n",
    "                    source[1] -=1\n",
    "                    self.vents[source[0], source[1]] += 1\n",
    "                    dx -= 1\n",
    "                    dy -= 1\n",
    "                while dx > 0 and dy < 0:\n",
    "                    source[0] -= 1\n",
    "                    source[1] +=1\n",
    "                    self.vents[source[0], source[1]] += 1\n",
    "                    dx -= 1\n",
    "                    dy += 1\n",
    "                while dx < 0 and dy > 0:\n",
    "                    source[0] += 1\n",
    "                    source[1] -=1\n",
    "                    self.vents[source[0], source[1]] += 1\n",
    "                    dx += 1\n",
    "                    dy -= 1\n",
    "                while dx < 0 and dy < 0:\n",
    "                    source[0] += 1\n",
    "                    source[1] +=1\n",
    "                    self.vents[source[0], source[1]] += 1\n",
    "                    dx += 1\n",
    "                    dy += 1\n",
    "                if source != target:\n",
    "                    raise Exception(\"{} != {}\".format(source, target))\n",
    "        print(\"Drew {} horizontal, {} vertical, and {} diagonal lines.\".format(n_h, n_v, n_d))\n",
    "                    \n",
    "    def n_danger_zones(self):\n",
    "        return (self.vents > 1).sum()\n",
    "    \n",
    "    def plot_vents(self, grid=False):\n",
    "        if grid:\n",
    "            sns.set_style(\"whitegrid\")\n",
    "        else:\n",
    "            sns.set_style(\"white\")\n",
    "        fig, ax = plt.subplots(1, 2, figsize=(15, 7))\n",
    "        ax[0].imshow(self.vents.T, cmap='Greys')\n",
    "        ax[1].imshow((self.vents.T > 1), cmap='binary')\n",
    "        for x in ax:\n",
    "            x.set_xticks([i + 0.5 for i in range(0, self.max_x)])\n",
    "            x.set_yticks([i + 0.5 for i in range(0, self.max_y)])\n",
    "            x.set_xticklabels(range(0, self.max_x), visible=False)\n",
    "            x.set_yticklabels(range(0, self.max_y), visible=False)\n",
    "        sns.despine(bottom=True, left=True)"
   ]
  },
  {
   "cell_type": "code",
   "execution_count": null,
   "id": "ee27b0e3",
   "metadata": {},
   "outputs": [],
   "source": [
    "# Example input\n",
    "example_data = [\"0,9 -> 5,9\",\"8,0 -> 0,8\",\"9,4 -> 3,4\",\"2,2 -> 2,1\",\"7,0 -> 7,4\",\"6,4 -> 2,0\",\"0,9 -> 2,9\",\"3,4 -> 1,4\",\"0,0 -> 8,8\",\"5,5 -> 8,2\"]\n",
    "data = [parse_coordinates(line) for line in example_data]\n",
    "sv = SeaVents(data)\n",
    "sv.map_vents()\n",
    "sv.plot_vents(grid=True)\n",
    "sv.n_danger_zones()"
   ]
  },
  {
   "cell_type": "code",
   "execution_count": null,
   "id": "0c37e0bc",
   "metadata": {
    "scrolled": false
   },
   "outputs": [],
   "source": [
    "data = [parse_coordinates(line) for line in get_daily_data(5)]\n",
    "sv = SeaVents(data)\n",
    "sv.map_vents()\n",
    "sv.plot_vents()\n",
    "sv.n_danger_zones()"
   ]
  },
  {
   "cell_type": "code",
   "execution_count": null,
   "id": "0f531e7b",
   "metadata": {},
   "outputs": [],
   "source": [
    "data = [parse_coordinates(line) for line in get_daily_data(5)]\n",
    "sv = SeaVents(data)\n",
    "sv.map_vents(diagonals=True)\n",
    "sv.plot_vents()\n",
    "sv.n_danger_zones()"
   ]
  },
  {
   "cell_type": "markdown",
   "id": "7b188149",
   "metadata": {},
   "source": [
    "## Day 4"
   ]
  },
  {
   "cell_type": "code",
   "execution_count": null,
   "id": "56610928",
   "metadata": {},
   "outputs": [],
   "source": [
    "class BingoBoard:\n",
    "    \n",
    "    def __init__(self, values):\n",
    "        self.values = np.array(values)\n",
    "        self.marked = np.zeros(self.values.shape).astype(bool)\n",
    "        \n",
    "    def mark(self, value):\n",
    "        idx = np.where(self.values == value)\n",
    "        self.marked[idx] = True\n",
    "    \n",
    "    def bingo(self):\n",
    "        row_bingo = (self.marked.sum(axis=1) == self.marked.shape[0]).any()\n",
    "        col_bingo = (self.marked.sum(axis=0) == self.marked.shape[1]).any()\n",
    "        return row_bingo or col_bingo\n",
    "        \n",
    "    def get_unmarked_values(self):\n",
    "        unmarked = ~self.marked\n",
    "        return self.values[np.where(unmarked)]"
   ]
  },
  {
   "cell_type": "code",
   "execution_count": null,
   "id": "36ccbd89",
   "metadata": {},
   "outputs": [],
   "source": [
    "def init_data():\n",
    "    data = [line for line in get_daily_data(4)]\n",
    "    balls = [int(x) for x in data.pop(0).split(',')]\n",
    "    data.pop(0)  # throw away empty line\n",
    "\n",
    "    boards = []\n",
    "    board_values = []\n",
    "    for line in data:\n",
    "        if line == \"\":\n",
    "            boards.append(BingoBoard(board_values))\n",
    "            board_values = []\n",
    "        else:\n",
    "            row = [int(x) for x in line.split()]\n",
    "            board_values.append(row)\n",
    "    return boards, balls"
   ]
  },
  {
   "cell_type": "code",
   "execution_count": null,
   "id": "07e74fbd",
   "metadata": {},
   "outputs": [],
   "source": [
    "def play_bingo(boards, balls):\n",
    "    for bl in balls:\n",
    "        for bd in boards:\n",
    "            bd.mark(bl)\n",
    "            if bd.bingo():\n",
    "                solution = bd.get_unmarked_values().sum() * bl\n",
    "                return solution"
   ]
  },
  {
   "cell_type": "code",
   "execution_count": null,
   "id": "df1e3e92",
   "metadata": {},
   "outputs": [],
   "source": [
    "boards, balls = init_data()\n",
    "play_bingo(boards, balls)"
   ]
  },
  {
   "cell_type": "code",
   "execution_count": null,
   "id": "84efa7f4",
   "metadata": {},
   "outputs": [],
   "source": [
    "def play_bad_bingo(boards, balls):\n",
    "    for bl in balls:\n",
    "        purge = []\n",
    "        for bd in boards:\n",
    "            bd.mark(bl)\n",
    "            if bd.bingo():\n",
    "                if len(boards) == 1:\n",
    "                    solution = bd.get_unmarked_values().sum() * bl\n",
    "                    return solution\n",
    "                else:\n",
    "                    purge.append(bd)\n",
    "        for bd in purge:\n",
    "            boards.remove(bd)"
   ]
  },
  {
   "cell_type": "code",
   "execution_count": null,
   "id": "1170c01b",
   "metadata": {},
   "outputs": [],
   "source": [
    "boards, balls = init_data()\n",
    "play_bad_bingo(boards, balls)"
   ]
  },
  {
   "cell_type": "code",
   "execution_count": null,
   "id": "104ba5ba",
   "metadata": {},
   "outputs": [],
   "source": [
    "# TODO: Render these on each round of bingo to show how it plays out.\n",
    "boards, balls = init_data()\n",
    "fig, ax = plt.subplots(9, 11, figsize=(15, 10))\n",
    "for i in range(9):\n",
    "    for j in range(11):\n",
    "        board = boards[i * 9 + j]\n",
    "        ax[i][j].imshow(board.marked.astype(int), cmap='binary')\n",
    "        ax[i][j].get_xaxis().set_visible(False)\n",
    "        ax[i][j].get_yaxis().set_visible(False)\n",
    "sns.despine(bottom=True, left=True)\n",
    "plt.show()"
   ]
  },
  {
   "cell_type": "code",
   "execution_count": null,
   "id": "dbbb815b",
   "metadata": {},
   "outputs": [],
   "source": [
    "raise"
   ]
  },
  {
   "cell_type": "markdown",
   "id": "f104cfd2",
   "metadata": {},
   "source": [
    "## Day 3"
   ]
  },
  {
   "cell_type": "code",
   "execution_count": null,
   "id": "34630ea7",
   "metadata": {},
   "outputs": [],
   "source": [
    "def to_decimal(binary_vector):\n",
    "    total = 0\n",
    "    for pos, bit in enumerate(binary_vector[::-1]):\n",
    "        total += bit * (2 ** pos)\n",
    "    return total"
   ]
  },
  {
   "cell_type": "code",
   "execution_count": null,
   "id": "a51bdaec",
   "metadata": {},
   "outputs": [],
   "source": [
    "import numpy as np\n",
    "from scipy import stats\n",
    "\n",
    "data = []\n",
    "for line in get_daily_data(3):\n",
    "    data.append([int(x) for x in list(line.strip())])\n",
    "data = np.array(data)"
   ]
  },
  {
   "cell_type": "code",
   "execution_count": null,
   "id": "c2fbaaff",
   "metadata": {},
   "outputs": [],
   "source": [
    "gamma_bin = list(stats.mode(data, axis=0)[0][0])\n",
    "epsilon_bin = [abs(data - 1) for data in gamma_bin]\n",
    "gamma = to_decimal(gamma_bin)\n",
    "epsilon = to_decimal(epsilon_bin)\n",
    "gamma * epsilon"
   ]
  },
  {
   "cell_type": "code",
   "execution_count": null,
   "id": "9bb56589",
   "metadata": {},
   "outputs": [],
   "source": [
    "def most_common(vec):\n",
    "    n1 = sum(vec)\n",
    "    n0 = len(vec) - sum(vec)\n",
    "    if n0 == n1:\n",
    "        return 1\n",
    "    elif n0 > n1:\n",
    "        return 0\n",
    "    else:\n",
    "        return 1"
   ]
  },
  {
   "cell_type": "code",
   "execution_count": null,
   "id": "251cb742",
   "metadata": {},
   "outputs": [],
   "source": [
    "def least_common(vec):\n",
    "    n1 = sum(vec)\n",
    "    n0 = len(vec) - sum(vec)\n",
    "    if n0 == n1:\n",
    "        return 0\n",
    "    elif n0 > n1:\n",
    "        return 1\n",
    "    else:\n",
    "        return 0"
   ]
  },
  {
   "cell_type": "code",
   "execution_count": null,
   "id": "6d9a667b",
   "metadata": {},
   "outputs": [],
   "source": [
    "def find_og_rating(data):\n",
    "    for col in range(data.shape[1]):\n",
    "        x = data[:, col]\n",
    "        mode = most_common(x)\n",
    "        data = data[x == mode, :]\n",
    "        if data.shape[0] == 1:\n",
    "            break\n",
    "    assert(data.shape[0] == 1)\n",
    "    return to_decimal(data[0, :])"
   ]
  },
  {
   "cell_type": "code",
   "execution_count": null,
   "id": "04cb45f0",
   "metadata": {},
   "outputs": [],
   "source": [
    "def find_co2_rating(data):\n",
    "    for col in range(data.shape[1]):\n",
    "        x = data[:, col]\n",
    "        antimode = least_common(x)\n",
    "        data = data[x == antimode, :]\n",
    "        if data.shape[0] == 1:\n",
    "            break\n",
    "    assert(data.shape[0] == 1)\n",
    "    return to_decimal(data[0, :])"
   ]
  },
  {
   "cell_type": "code",
   "execution_count": null,
   "id": "87c8828d",
   "metadata": {},
   "outputs": [],
   "source": [
    "og = find_og_rating(data)\n",
    "og"
   ]
  },
  {
   "cell_type": "code",
   "execution_count": null,
   "id": "f5093f44",
   "metadata": {},
   "outputs": [],
   "source": [
    "co2 = find_co2_rating(data)\n",
    "co2"
   ]
  },
  {
   "cell_type": "code",
   "execution_count": null,
   "id": "80bba7ba",
   "metadata": {},
   "outputs": [],
   "source": [
    "og * co2"
   ]
  },
  {
   "cell_type": "code",
   "execution_count": null,
   "id": "0ef3ba0d",
   "metadata": {},
   "outputs": [],
   "source": [
    "# 7105014 is too high"
   ]
  },
  {
   "cell_type": "markdown",
   "id": "5e3c1284",
   "metadata": {},
   "source": [
    "## Day 2"
   ]
  },
  {
   "cell_type": "code",
   "execution_count": null,
   "id": "638a4211",
   "metadata": {},
   "outputs": [],
   "source": [
    "horizontal_loc = 0\n",
    "depth_loc = 0\n",
    "for direction, value in get_daily_data(2, ' '):\n",
    "    value = int(value)\n",
    "    if direction == \"forward\":\n",
    "        horizontal_loc += value\n",
    "    elif direction == \"down\":\n",
    "        depth_loc += value\n",
    "    elif direction == \"up\":\n",
    "        depth_loc -= value\n",
    "horizontal_loc * depth_loc"
   ]
  },
  {
   "cell_type": "code",
   "execution_count": null,
   "id": "e05044d3",
   "metadata": {},
   "outputs": [],
   "source": [
    "horizontal_loc = 0\n",
    "depth_loc = 0\n",
    "aim = 0\n",
    "for direction, value in get_daily_data(2, ' '):\n",
    "    value = int(value)\n",
    "    if direction == \"forward\":\n",
    "        horizontal_loc += value\n",
    "        depth_loc += value * aim\n",
    "    elif direction == \"down\":\n",
    "        aim += value\n",
    "    elif direction == \"up\":\n",
    "        aim -= value\n",
    "horizontal_loc * depth_loc"
   ]
  },
  {
   "cell_type": "markdown",
   "id": "67cbf662",
   "metadata": {},
   "source": [
    "## Day 1"
   ]
  },
  {
   "cell_type": "code",
   "execution_count": null,
   "id": "a3ca7602",
   "metadata": {},
   "outputs": [],
   "source": [
    "n_increases = 0\n",
    "prev_x = 9e32\n",
    "for value in get_daily_data(1):\n",
    "        x = int(value)\n",
    "        if x > prev_x:\n",
    "            n_increases += 1\n",
    "        prev_x = x\n",
    "n_increases"
   ]
  },
  {
   "cell_type": "code",
   "execution_count": null,
   "id": "3876c580",
   "metadata": {},
   "outputs": [],
   "source": [
    "n_increases = 0\n",
    "window = []\n",
    "prev_sum = None\n",
    "for value in get_daily_data(1):\n",
    "    x = int(value)\n",
    "    if len(window) < 3:\n",
    "        window.append(x)\n",
    "    if prev_sum is None:\n",
    "        prev_sum = sum(window)\n",
    "    if len(window) == 3:\n",
    "        window.pop(0)\n",
    "        window.append(x)\n",
    "        new_sum = sum(window)\n",
    "        if new_sum > prev_sum:\n",
    "            n_increases += 1\n",
    "        prev_sum = new_sum\n",
    "n_increases"
   ]
  }
 ],
 "metadata": {
  "kernelspec": {
   "display_name": "Python 3 (ipykernel)",
   "language": "python",
   "name": "python3"
  },
  "language_info": {
   "codemirror_mode": {
    "name": "ipython",
    "version": 3
   },
   "file_extension": ".py",
   "mimetype": "text/x-python",
   "name": "python",
   "nbconvert_exporter": "python",
   "pygments_lexer": "ipython3",
   "version": "3.8.2"
  }
 },
 "nbformat": 4,
 "nbformat_minor": 5
}
