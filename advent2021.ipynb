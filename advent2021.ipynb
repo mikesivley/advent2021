{
 "cells": [
  {
   "cell_type": "markdown",
   "id": "e6859a78",
   "metadata": {},
   "source": [
    "# Advent of Code - 2021"
   ]
  },
  {
   "cell_type": "markdown",
   "id": "88e56028",
   "metadata": {},
   "source": [
    "## Daily Data\n",
    "\n",
    "The input data for each day \"e.g. day 5\" should be downloaded into the data subdirectory for the corresponding day (e.g. data/day_5/input.txt). This will allow use of the `get_daily_data` generator function."
   ]
  },
  {
   "cell_type": "markdown",
   "id": "f81ba12b",
   "metadata": {},
   "source": [
    "## Support Functions"
   ]
  },
  {
   "cell_type": "code",
   "execution_count": 13,
   "id": "0d72dff0",
   "metadata": {},
   "outputs": [],
   "source": [
    "import os\n",
    "def get_daily_data(day, sep=None):\n",
    "    daily_filename = \"data/day_{}/input.txt\".format(day)\n",
    "    if not os.path.exists(daily_filename):\n",
    "        try:\n",
    "            os.rename(\"/Users/mikes/Downloads/input.txt\", daily_filename)\n",
    "        except:\n",
    "            raise Exception(\"Could not find daily input file.\")\n",
    "    with open(daily_filename, 'r') as fin:\n",
    "        for line in fin.readlines():\n",
    "            if sep is None:\n",
    "                yield line\n",
    "            else:\n",
    "                yield line.split(sep)"
   ]
  },
  {
   "cell_type": "markdown",
   "id": "7dedf8ca",
   "metadata": {},
   "source": [
    "## Day 3"
   ]
  },
  {
   "cell_type": "code",
   "execution_count": 31,
   "id": "e033ef88",
   "metadata": {},
   "outputs": [],
   "source": [
    "def to_decimal(binary_vector):\n",
    "    total = 0\n",
    "    for pos, bit in enumerate(binary_vector[::-1]):\n",
    "        total += bit * (2 ** pos)\n",
    "    return total"
   ]
  },
  {
   "cell_type": "code",
   "execution_count": 44,
   "id": "9675d3e4",
   "metadata": {},
   "outputs": [],
   "source": [
    "import numpy as np\n",
    "from scipy import stats\n",
    "\n",
    "data = []\n",
    "for line in get_daily_data(3):\n",
    "    data.append([int(x) for x in list(line.strip())])\n",
    "data = np.array(data)"
   ]
  },
  {
   "cell_type": "code",
   "execution_count": 45,
   "id": "6a8d242a",
   "metadata": {},
   "outputs": [
    {
     "data": {
      "text/plain": [
       "2967914"
      ]
     },
     "execution_count": 45,
     "metadata": {},
     "output_type": "execute_result"
    }
   ],
   "source": [
    "gamma_bin = list(stats.mode(data, axis=0)[0][0])\n",
    "epsilon_bin = [abs(data - 1) for data in gamma_bin]\n",
    "gamma = to_decimal(gamma_bin)\n",
    "epsilon = to_decimal(epsilon_bin)\n",
    "gamma * epsilon"
   ]
  },
  {
   "cell_type": "code",
   "execution_count": 85,
   "id": "c8346fa9",
   "metadata": {},
   "outputs": [],
   "source": [
    "def most_common(vec):\n",
    "    n1 = sum(vec)\n",
    "    n0 = len(vec) - sum(vec)\n",
    "    if n0 == n1:\n",
    "        return 1\n",
    "    elif n0 > n1:\n",
    "        return 0\n",
    "    else:\n",
    "        return 1"
   ]
  },
  {
   "cell_type": "code",
   "execution_count": 86,
   "id": "06c526d6",
   "metadata": {},
   "outputs": [],
   "source": [
    "def least_common(vec):\n",
    "    n1 = sum(vec)\n",
    "    n0 = len(vec) - sum(vec)\n",
    "    if n0 == n1:\n",
    "        return 0\n",
    "    elif n0 > n1:\n",
    "        return 1\n",
    "    else:\n",
    "        return 0"
   ]
  },
  {
   "cell_type": "code",
   "execution_count": 87,
   "id": "c191045a",
   "metadata": {},
   "outputs": [],
   "source": [
    "def find_og_rating(data):\n",
    "    for col in range(data.shape[1]):\n",
    "        x = data[:, col]\n",
    "        mode = most_common(x)\n",
    "        data = data[x == mode, :]\n",
    "        if data.shape[0] == 1:\n",
    "            break\n",
    "    assert(data.shape[0] == 1)\n",
    "    return to_decimal(data[0, :])"
   ]
  },
  {
   "cell_type": "code",
   "execution_count": 88,
   "id": "c9d1ba27",
   "metadata": {},
   "outputs": [],
   "source": [
    "def find_co2_rating(data):\n",
    "    for col in range(data.shape[1]):\n",
    "        x = data[:, col]\n",
    "        antimode = least_common(x)\n",
    "        data = data[x == antimode, :]\n",
    "        if data.shape[0] == 1:\n",
    "            break\n",
    "    assert(data.shape[0] == 1)\n",
    "    return to_decimal(data[0, :])"
   ]
  },
  {
   "cell_type": "code",
   "execution_count": 89,
   "id": "c8dfa431",
   "metadata": {},
   "outputs": [
    {
     "data": {
      "text/plain": [
       "1927"
      ]
     },
     "execution_count": 89,
     "metadata": {},
     "output_type": "execute_result"
    }
   ],
   "source": [
    "og = find_og_rating(data)\n",
    "og"
   ]
  },
  {
   "cell_type": "code",
   "execution_count": 90,
   "id": "84bbb870",
   "metadata": {},
   "outputs": [
    {
     "data": {
      "text/plain": [
       "3654"
      ]
     },
     "execution_count": 90,
     "metadata": {},
     "output_type": "execute_result"
    }
   ],
   "source": [
    "co2 = find_co2_rating(data)\n",
    "co2"
   ]
  },
  {
   "cell_type": "code",
   "execution_count": 91,
   "id": "113d3444",
   "metadata": {},
   "outputs": [
    {
     "data": {
      "text/plain": [
       "7041258"
      ]
     },
     "execution_count": 91,
     "metadata": {},
     "output_type": "execute_result"
    }
   ],
   "source": [
    "og * co2"
   ]
  },
  {
   "cell_type": "code",
   "execution_count": 92,
   "id": "42f9f30a",
   "metadata": {},
   "outputs": [],
   "source": [
    "# 7105014 is too high"
   ]
  },
  {
   "cell_type": "markdown",
   "id": "7121e223",
   "metadata": {},
   "source": [
    "## Day 2"
   ]
  },
  {
   "cell_type": "code",
   "execution_count": 2,
   "id": "350349a0",
   "metadata": {},
   "outputs": [
    {
     "data": {
      "text/plain": [
       "1580000"
      ]
     },
     "execution_count": 2,
     "metadata": {},
     "output_type": "execute_result"
    }
   ],
   "source": [
    "horizontal_loc = 0\n",
    "depth_loc = 0\n",
    "for direction, value in get_daily_data(2, ' '):\n",
    "    value = int(value)\n",
    "    if direction == \"forward\":\n",
    "        horizontal_loc += value\n",
    "    elif direction == \"down\":\n",
    "        depth_loc += value\n",
    "    elif direction == \"up\":\n",
    "        depth_loc -= value\n",
    "horizontal_loc * depth_loc"
   ]
  },
  {
   "cell_type": "code",
   "execution_count": 3,
   "id": "8efeaea6",
   "metadata": {},
   "outputs": [
    {
     "data": {
      "text/plain": [
       "1251263225"
      ]
     },
     "execution_count": 3,
     "metadata": {},
     "output_type": "execute_result"
    }
   ],
   "source": [
    "horizontal_loc = 0\n",
    "depth_loc = 0\n",
    "aim = 0\n",
    "for direction, value in get_daily_data(2, ' '):\n",
    "    value = int(value)\n",
    "    if direction == \"forward\":\n",
    "        horizontal_loc += value\n",
    "        depth_loc += value * aim\n",
    "    elif direction == \"down\":\n",
    "        aim += value\n",
    "    elif direction == \"up\":\n",
    "        aim -= value\n",
    "horizontal_loc * depth_loc"
   ]
  },
  {
   "cell_type": "markdown",
   "id": "67cbf662",
   "metadata": {},
   "source": [
    "## Day 1"
   ]
  },
  {
   "cell_type": "code",
   "execution_count": 4,
   "id": "a3ca7602",
   "metadata": {},
   "outputs": [
    {
     "data": {
      "text/plain": [
       "1466"
      ]
     },
     "execution_count": 4,
     "metadata": {},
     "output_type": "execute_result"
    }
   ],
   "source": [
    "n_increases = 0\n",
    "prev_x = 9e32\n",
    "for value in get_daily_data(1):\n",
    "        x = int(value)\n",
    "        if x > prev_x:\n",
    "            n_increases += 1\n",
    "        prev_x = x\n",
    "n_increases"
   ]
  },
  {
   "cell_type": "code",
   "execution_count": 5,
   "id": "3876c580",
   "metadata": {},
   "outputs": [
    {
     "data": {
      "text/plain": [
       "1491"
      ]
     },
     "execution_count": 5,
     "metadata": {},
     "output_type": "execute_result"
    }
   ],
   "source": [
    "n_increases = 0\n",
    "window = []\n",
    "prev_sum = None\n",
    "for value in get_daily_data(1):\n",
    "    x = int(value)\n",
    "    if len(window) < 3:\n",
    "        window.append(x)\n",
    "    if prev_sum is None:\n",
    "        prev_sum = sum(window)\n",
    "    if len(window) == 3:\n",
    "        window.pop(0)\n",
    "        window.append(x)\n",
    "        new_sum = sum(window)\n",
    "        if new_sum > prev_sum:\n",
    "            n_increases += 1\n",
    "        prev_sum = new_sum\n",
    "n_increases"
   ]
  }
 ],
 "metadata": {
  "kernelspec": {
   "display_name": "Python 3 (ipykernel)",
   "language": "python",
   "name": "python3"
  },
  "language_info": {
   "codemirror_mode": {
    "name": "ipython",
    "version": 3
   },
   "file_extension": ".py",
   "mimetype": "text/x-python",
   "name": "python",
   "nbconvert_exporter": "python",
   "pygments_lexer": "ipython3",
   "version": "3.8.2"
  }
 },
 "nbformat": 4,
 "nbformat_minor": 5
}
