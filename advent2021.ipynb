{
 "cells": [
  {
   "cell_type": "markdown",
   "id": "616a05ca",
   "metadata": {},
   "source": [
    "# Advent of Code - 2021"
   ]
  },
  {
   "cell_type": "markdown",
   "id": "a423bb72",
   "metadata": {},
   "source": [
    "## Daily Data\n",
    "\n",
    "The input data for each day \"e.g. day 5\" should be downloaded into the data subdirectory for the corresponding day ("
   ]
  },
  {
   "cell_type": "markdown",
   "id": "0bfd5142",
   "metadata": {},
   "source": [
    "## Support Functions"
   ]
  },
  {
   "cell_type": "code",
   "execution_count": 19,
   "id": "11969dfe",
   "metadata": {},
   "outputs": [],
   "source": [
    "def get_daily_data(day):\n",
    "    daily_filename = \"data/day_{}/input.txt\".format(day)\n",
    "    with open(daily_filename, 'r') as fin:\n",
    "        for line in fin.readlines():\n",
    "            yield line"
   ]
  },
  {
   "cell_type": "markdown",
   "id": "67cbf662",
   "metadata": {},
   "source": [
    "## Day 1"
   ]
  },
  {
   "cell_type": "code",
   "execution_count": 20,
   "id": "a3ca7602",
   "metadata": {},
   "outputs": [
    {
     "data": {
      "text/plain": [
       "1466"
      ]
     },
     "execution_count": 20,
     "metadata": {},
     "output_type": "execute_result"
    }
   ],
   "source": [
    "n_increases = 0\n",
    "prev_x = 9999999999999\n",
    "for value in get_daily_data(1):\n",
    "        x = int(value)\n",
    "        if x > prev_x:\n",
    "            n_increases += 1\n",
    "        prev_x = x\n",
    "n_increases"
   ]
  },
  {
   "cell_type": "code",
   "execution_count": 21,
   "id": "3876c580",
   "metadata": {},
   "outputs": [
    {
     "data": {
      "text/plain": [
       "1491"
      ]
     },
     "execution_count": 21,
     "metadata": {},
     "output_type": "execute_result"
    }
   ],
   "source": [
    "n_increases = 0\n",
    "window = []\n",
    "prev_sum = None\n",
    "for value in get_daily_data(1):\n",
    "    x = int(value)\n",
    "    if len(window) < 3:\n",
    "        window.append(x)\n",
    "    if prev_sum is None:\n",
    "        prev_sum = sum(window)\n",
    "    if len(window) == 3:\n",
    "        window.pop(0)\n",
    "        window.append(x)\n",
    "        new_sum = sum(window)\n",
    "        if new_sum > prev_sum:\n",
    "            n_increases += 1\n",
    "        prev_sum = new_sum\n",
    "n_increases"
   ]
  },
  {
   "cell_type": "markdown",
   "id": "2ee60b14",
   "metadata": {},
   "source": [
    "## Day 2"
   ]
  },
  {
   "cell_type": "code",
   "execution_count": null,
   "id": "71934528",
   "metadata": {},
   "outputs": [],
   "source": []
  }
 ],
 "metadata": {
  "kernelspec": {
   "display_name": "Python 3 (ipykernel)",
   "language": "python",
   "name": "python3"
  },
  "language_info": {
   "codemirror_mode": {
    "name": "ipython",
    "version": 3
   },
   "file_extension": ".py",
   "mimetype": "text/x-python",
   "name": "python",
   "nbconvert_exporter": "python",
   "pygments_lexer": "ipython3",
   "version": "3.8.2"
  }
 },
 "nbformat": 4,
 "nbformat_minor": 5
}
