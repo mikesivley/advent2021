{
 "cells": [
  {
   "cell_type": "markdown",
   "id": "67cbf662",
   "metadata": {},
   "source": [
    "### Puzzle 1"
   ]
  },
  {
   "cell_type": "code",
   "execution_count": 7,
   "id": "a3ca7602",
   "metadata": {},
   "outputs": [
    {
     "data": {
      "text/plain": [
       "1466"
      ]
     },
     "execution_count": 7,
     "metadata": {},
     "output_type": "execute_result"
    }
   ],
   "source": [
    "n_increases = 0\n",
    "prev_x = 9999999999999\n",
    "with open(\"advent1.txt\", 'r') as fin:\n",
    "    for line in fin.readlines():\n",
    "        x = int(line)\n",
    "        if x > prev_x:\n",
    "            n_increases += 1\n",
    "        prev_x = x\n",
    "n_increases"
   ]
  },
  {
   "cell_type": "markdown",
   "id": "939a6d1e",
   "metadata": {},
   "source": [
    "### Puzzle 2"
   ]
  },
  {
   "cell_type": "code",
   "execution_count": 16,
   "id": "3876c580",
   "metadata": {},
   "outputs": [
    {
     "data": {
      "text/plain": [
       "1491"
      ]
     },
     "execution_count": 16,
     "metadata": {},
     "output_type": "execute_result"
    }
   ],
   "source": [
    "n_increases = 0\n",
    "window = []\n",
    "prev_sum = None\n",
    "with open(\"advent1.txt\", 'r') as fin:\n",
    "    for line in fin.readlines():\n",
    "        x = int(line)\n",
    "        if len(window) < 3:\n",
    "            window.append(x)\n",
    "        if prev_sum is None:\n",
    "            prev_sum = sum(window)\n",
    "        if len(window) == 3:\n",
    "            window.pop(0)\n",
    "            window.append(x)\n",
    "            new_sum = sum(window)\n",
    "            if new_sum > prev_sum:\n",
    "                n_increases += 1\n",
    "            prev_sum = new_sum\n",
    "n_increases"
   ]
  }
 ],
 "metadata": {
  "kernelspec": {
   "display_name": "Python 3 (ipykernel)",
   "language": "python",
   "name": "python3"
  },
  "language_info": {
   "codemirror_mode": {
    "name": "ipython",
    "version": 3
   },
   "file_extension": ".py",
   "mimetype": "text/x-python",
   "name": "python",
   "nbconvert_exporter": "python",
   "pygments_lexer": "ipython3",
   "version": "3.8.2"
  }
 },
 "nbformat": 4,
 "nbformat_minor": 5
}
