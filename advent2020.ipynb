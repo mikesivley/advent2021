{
 "cells": [
  {
   "cell_type": "code",
   "execution_count": 1,
   "id": "496c8880",
   "metadata": {},
   "outputs": [],
   "source": [
    "import numpy as np\n",
    "import pandas as pd\n",
    "import matplotlib.pyplot as plt\n",
    "%matplotlib Tk"
   ]
  },
  {
   "cell_type": "markdown",
   "id": "86d5d6e8",
   "metadata": {},
   "source": [
    "## Day 25"
   ]
  },
  {
   "cell_type": "code",
   "execution_count": 1,
   "id": "64d8a0f9",
   "metadata": {},
   "outputs": [],
   "source": [
    "subject_number = 7\n",
    "card_public_key = 7573546\n",
    "door_public_key = 17786549\n",
    "div_num = 20201227"
   ]
  },
  {
   "cell_type": "code",
   "execution_count": 2,
   "id": "e028c2a2",
   "metadata": {},
   "outputs": [],
   "source": [
    "def transform(subject_number, loop_size=None):\n",
    "    value = 1\n",
    "    for i in range(loop_size):\n",
    "        value *= subject_number\n",
    "        value = value % div_num\n",
    "    return value"
   ]
  },
  {
   "cell_type": "code",
   "execution_count": 3,
   "id": "2036ded2",
   "metadata": {},
   "outputs": [],
   "source": [
    "def transform_generator(subject_number):\n",
    "    value = 1\n",
    "    while True:\n",
    "        value *= subject_number\n",
    "        value = value % div_num\n",
    "        yield value"
   ]
  },
  {
   "cell_type": "code",
   "execution_count": 4,
   "id": "312b9c74",
   "metadata": {},
   "outputs": [],
   "source": [
    "def decode_loop_size(subject_number, public_key):\n",
    "    found = False\n",
    "    for loop_size, pk in enumerate(transform_generator(subject_number)):\n",
    "        if pk == public_key:\n",
    "            break\n",
    "    return loop_size + 1"
   ]
  },
  {
   "cell_type": "code",
   "execution_count": 5,
   "id": "4d1a6503",
   "metadata": {},
   "outputs": [
    {
     "data": {
      "text/plain": [
       "10985209"
      ]
     },
     "execution_count": 5,
     "metadata": {},
     "output_type": "execute_result"
    }
   ],
   "source": [
    "card_loop_size = decode_loop_size(subject_number, card_public_key)\n",
    "card_loop_size"
   ]
  },
  {
   "cell_type": "code",
   "execution_count": 6,
   "id": "1a439297",
   "metadata": {},
   "outputs": [
    {
     "data": {
      "text/plain": [
       "925199"
      ]
     },
     "execution_count": 6,
     "metadata": {},
     "output_type": "execute_result"
    }
   ],
   "source": [
    "door_loop_size = decode_loop_size(subject_number, door_public_key)\n",
    "door_loop_size"
   ]
  },
  {
   "cell_type": "code",
   "execution_count": 7,
   "id": "ae8ebfd6",
   "metadata": {},
   "outputs": [
    {
     "data": {
      "text/plain": [
       "7032853"
      ]
     },
     "execution_count": 7,
     "metadata": {},
     "output_type": "execute_result"
    }
   ],
   "source": [
    "transform(card_public_key, door_loop_size)"
   ]
  },
  {
   "cell_type": "code",
   "execution_count": 8,
   "id": "fe698d23",
   "metadata": {},
   "outputs": [
    {
     "data": {
      "text/plain": [
       "7032853"
      ]
     },
     "execution_count": 8,
     "metadata": {},
     "output_type": "execute_result"
    }
   ],
   "source": [
    "transform(door_public_key, card_loop_size)"
   ]
  },
  {
   "cell_type": "markdown",
   "id": "50d7a200",
   "metadata": {},
   "source": [
    "## Day 24\n"
   ]
  },
  {
   "cell_type": "code",
   "execution_count": 9,
   "id": "abc4e7ff",
   "metadata": {},
   "outputs": [],
   "source": [
    "class Sequence:\n",
    "    \n",
    "    def __init__(self, sequence):\n",
    "        self.sequence = list(sequence)\n",
    "        self.valid_directions = [\"e\", \"se\", \"sw\", \"w\", \"nw\", \"ne\"]\n",
    "        \n",
    "    def __iter__(self):\n",
    "        return self\n",
    "        \n",
    "    def __next__(self):\n",
    "        try:\n",
    "            direction = self.sequence.pop(0)\n",
    "            if direction not in self.valid_directions:\n",
    "                direction += self.sequence.pop(0)\n",
    "        except IndexError:\n",
    "            raise StopIteration\n",
    "        return direction\n",
    "        "
   ]
  },
  {
   "cell_type": "code",
   "execution_count": 10,
   "id": "f462555d",
   "metadata": {},
   "outputs": [],
   "source": [
    "import pandas as pd\n",
    "import matplotlib.pyplot as plt\n",
    "import seaborn as sns\n",
    "%matplotlib osx\n",
    "\n",
    "class HexGrid:\n",
    "    \n",
    "    def __init__(self):\n",
    "        self.reference_tile = [0, 0]\n",
    "        self.tile_color = {}\n",
    "        \n",
    "    def move(self, tile, direction):\n",
    "        if direction == \"e\":\n",
    "            tile[0] += 0\n",
    "            tile[1] += 1\n",
    "        elif direction == \"se\":\n",
    "            tile[0] -= 0.5\n",
    "            tile[1] += 0.5\n",
    "        elif direction == \"sw\":\n",
    "            tile[0] -= 0.5\n",
    "            tile[1] -= 0.5\n",
    "        elif direction == \"w\":\n",
    "            tile[0] += 0\n",
    "            tile[1] -= 1\n",
    "        elif direction == \"nw\":\n",
    "            tile[0] += 0.5\n",
    "            tile[1] -= 0.5\n",
    "        elif direction == \"ne\":\n",
    "            tile[0] += 0.5\n",
    "            tile[1] += 0.5\n",
    "        if tuple(tile) not in self.tile_color:\n",
    "            self.tile_color[tuple(tile)] = \"white\"\n",
    "        return tile\n",
    "         \n",
    "    def locate_tile(self, sequence):\n",
    "        tile = self.reference_tile.copy()\n",
    "        for s in sequence:\n",
    "            tile = self.move(tile, s)\n",
    "        return tile\n",
    "    \n",
    "    def flip_tile(self, sequence=None, tile=None):\n",
    "        if tile is None:\n",
    "            tile = self.locate_tile(sequence)\n",
    "        color = \"white\" if tuple(tile) not in self.tile_color else self.tile_color[tuple(tile)]\n",
    "        new_color = [\"black\", \"white\"][int(color == \"black\")]\n",
    "        self.tile_color[tuple(tile)] = new_color\n",
    "        \n",
    "    def fill_adjacent_colors(self):\n",
    "        for tile, color in list(self.tile_color.items()):\n",
    "            if color == \"white\":\n",
    "                continue\n",
    "            for i, j in [(0, -1), (0.5, -0.5), (1, 0), (0.5, 0.5), (0, 1), (-0.5, 0.5), (-1, 0), (-0.5, -0.5)]:\n",
    "                adj_tile = (tile[0] + i, tile[1] + j)\n",
    "                if adj_tile not in self.tile_color:\n",
    "                    self.tile_color[adj_tile] = \"white\"\n",
    "        \n",
    "    def get_adjacent_colors(self, tile):\n",
    "        n_adjacent = 6\n",
    "        adjacent_colors = []\n",
    "        for i, j in [(0, -1), (0.5, -0.5), (0.5, 0.5), (0, 1), (-0.5, 0.5), (-0.5, -0.5)]:\n",
    "            adj_tile = (tile[0] + i, tile[1] + j)\n",
    "            assert len(adj_tile) <= n_adjacent\n",
    "            try:\n",
    "                adjacent_colors.append(self.tile_color[adj_tile])\n",
    "            except KeyError:\n",
    "                pass\n",
    "        return adjacent_colors\n",
    "        \n",
    "    def apply_white_rule(self, adj_colors):\n",
    "        n_black = len([c for c in adj_colors if c == \"black\"])\n",
    "        return n_black == 2            \n",
    "    \n",
    "    def apply_black_rule(self, adj_colors):\n",
    "        n_white = len([c for c in adj_colors if c == \"black\"])\n",
    "        return n_white == 0 or n_white > 2\n",
    "    \n",
    "    def make_art(self):\n",
    "        tiles_to_flip = []\n",
    "        for tile, color in self.tile_color.items():\n",
    "            adj_colors = self.get_adjacent_colors(tile)\n",
    "            if color == \"white\":\n",
    "                to_flip = self.apply_white_rule(adj_colors)\n",
    "            else:\n",
    "                to_flip = self.apply_black_rule(adj_colors)\n",
    "            if to_flip:\n",
    "                tiles_to_flip.append(tile)\n",
    "        for t in tiles_to_flip:\n",
    "            self.flip_tile(tile=t)\n",
    "        \n",
    "    def n_black_tiles(self):\n",
    "        return len([t for t in self.tile_color.values() if t == \"black\"])\n",
    "    \n",
    "    def plot_tiles(self, ax=None):\n",
    "        update = False\n",
    "        if ax is None:\n",
    "            fig, ax = plt.subplots(1, 1, figsize=(10, 10))\n",
    "            ax.set_facecolor('grey')\n",
    "        else:\n",
    "            ax.clear()\n",
    "            update = True\n",
    "        data = []\n",
    "        for tile, color in self.tile_color.items():\n",
    "            data.append([tile[1], tile[0], 0 if color == \"white\" else 1]) \n",
    "        df = pd.DataFrame(data=data, columns=[\"x\", \"y\", \"tile_color\"])\n",
    "        ax.scatter(data=df, x=\"x\", y=\"y\", c=\"tile_color\", cmap=\"binary\")\n",
    "        sns.despine(bottom=True, left=True)\n",
    "        plt.show()\n",
    "        return ax"
   ]
  },
  {
   "cell_type": "code",
   "execution_count": 11,
   "id": "d17dbbf7",
   "metadata": {
    "scrolled": false
   },
   "outputs": [
    {
     "data": {
      "text/plain": [
       "244"
      ]
     },
     "execution_count": 11,
     "metadata": {},
     "output_type": "execute_result"
    }
   ],
   "source": [
    "floor = HexGrid()\n",
    "with open(\"/Users/mikes/Downloads/input.txt\", 'r') as fin:\n",
    "    for line in fin.readlines():\n",
    "        sequence = Sequence(line)\n",
    "        floor.flip_tile(sequence)\n",
    "floor.n_black_tiles()"
   ]
  },
  {
   "cell_type": "code",
   "execution_count": 15,
   "id": "fe7ffa78",
   "metadata": {
    "scrolled": false
   },
   "outputs": [
    {
     "ename": "KeyboardInterrupt",
     "evalue": "",
     "output_type": "error",
     "traceback": [
      "\u001b[0;31m---------------------------------------------------------------------------\u001b[0m",
      "\u001b[0;31mKeyboardInterrupt\u001b[0m                         Traceback (most recent call last)",
      "\u001b[0;32m/var/folders/24/51_xnzj95_33kjrl2jj1r6t00000gn/T/ipykernel_66321/435658353.py\u001b[0m in \u001b[0;36m<module>\u001b[0;34m\u001b[0m\n\u001b[1;32m      7\u001b[0m     \u001b[0max\u001b[0m \u001b[0;34m=\u001b[0m \u001b[0mfloor\u001b[0m\u001b[0;34m.\u001b[0m\u001b[0mplot_tiles\u001b[0m\u001b[0;34m(\u001b[0m\u001b[0max\u001b[0m\u001b[0;34m)\u001b[0m\u001b[0;34m\u001b[0m\u001b[0;34m\u001b[0m\u001b[0m\n\u001b[1;32m      8\u001b[0m     \u001b[0mplt\u001b[0m\u001b[0;34m.\u001b[0m\u001b[0mshow\u001b[0m\u001b[0;34m(\u001b[0m\u001b[0;34m)\u001b[0m\u001b[0;34m\u001b[0m\u001b[0;34m\u001b[0m\u001b[0m\n\u001b[0;32m----> 9\u001b[0;31m     \u001b[0msleep\u001b[0m\u001b[0;34m(\u001b[0m\u001b[0;36m1\u001b[0m\u001b[0;34m)\u001b[0m\u001b[0;34m\u001b[0m\u001b[0;34m\u001b[0m\u001b[0m\n\u001b[0m\u001b[1;32m     10\u001b[0m \u001b[0;31m# floor.plot_tiles()\u001b[0m\u001b[0;34m\u001b[0m\u001b[0;34m\u001b[0m\u001b[0;34m\u001b[0m\u001b[0m\n\u001b[1;32m     11\u001b[0m \u001b[0mfloor\u001b[0m\u001b[0;34m.\u001b[0m\u001b[0mn_black_tiles\u001b[0m\u001b[0;34m(\u001b[0m\u001b[0;34m)\u001b[0m\u001b[0;34m\u001b[0m\u001b[0;34m\u001b[0m\u001b[0m\n",
      "\u001b[0;31mKeyboardInterrupt\u001b[0m: "
     ]
    }
   ],
   "source": [
    "floor.fill_adjacent_colors()\n",
    "floor.plot_tiles()\n",
    "for i in range(100):\n",
    "    floor.make_art()\n",
    "    floor.fill_adjacent_colors()\n",
    "floor.plot_tiles()\n",
    "floor.n_black_tiles()"
   ]
  },
  {
   "cell_type": "code",
   "execution_count": null,
   "id": "e6105018",
   "metadata": {},
   "outputs": [],
   "source": []
  },
  {
   "cell_type": "code",
   "execution_count": null,
   "id": "76bf29f9",
   "metadata": {},
   "outputs": [],
   "source": []
  }
 ],
 "metadata": {
  "kernelspec": {
   "display_name": "Python 3 (ipykernel)",
   "language": "python",
   "name": "python3"
  },
  "language_info": {
   "codemirror_mode": {
    "name": "ipython",
    "version": 3
   },
   "file_extension": ".py",
   "mimetype": "text/x-python",
   "name": "python",
   "nbconvert_exporter": "python",
   "pygments_lexer": "ipython3",
   "version": "3.8.2"
  }
 },
 "nbformat": 4,
 "nbformat_minor": 5
}
